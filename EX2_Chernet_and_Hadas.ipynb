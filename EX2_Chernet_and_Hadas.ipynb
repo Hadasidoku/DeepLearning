{
 "cells": [
  {
   "cell_type": "markdown",
   "id": "31abfcef",
   "metadata": {},
   "source": [
    "### import "
   ]
  },
  {
   "cell_type": "code",
   "execution_count": 2,
   "id": "7e07c3db",
   "metadata": {},
   "outputs": [
    {
     "name": "stdout",
     "output_type": "stream",
     "text": [
      "2.7.0\n",
      "2.7.0\n"
     ]
    }
   ],
   "source": [
    "import tensorflow as tf\n",
    "from tensorflow.keras.models import Sequential\n",
    "from tensorflow.keras.layers import Dense, Flatten\n",
    "from tensorflow.keras.preprocessing.image import ImageDataGenerator\n",
    "from tensorflow.keras.optimizers import Adam\n",
    "from tensorflow.keras.optimizers import RMSprop,Adam\n",
    "from tensorflow.keras import layers\n",
    "from tensorflow.keras import datasets, layers, models\n",
    "from tensorflow import keras\n",
    "from tensorflow.keras.applications.resnet50 import ResNet50\n",
    "\n",
    "import keras\n",
    "from keras.layers import Activation\n",
    "from keras.models import Sequential\n",
    "from keras.layers import Conv2D\n",
    "from keras.layers import MaxPooling2D\n",
    "from keras.layers import Flatten\n",
    "from keras.layers import Dense\n",
    "from keras.preprocessing.image import ImageDataGenerator, load_img\n",
    "from keras.models import Sequential\n",
    "from keras.layers import Dense, Dropout, Flatten\n",
    "from keras.layers import Conv2D, MaxPooling2D\n",
    "from keras.preprocessing import image\n",
    "from keras import optimizers\n",
    "from sklearn.metrics import classification_report, confusion_matrix\n",
    "from sklearn.model_selection import train_test_split\n",
    "import sklearn.metrics\n",
    "\n",
    "\n",
    "import numpy as np\n",
    "import pandas as pd\n",
    "import matplotlib.pyplot as plt\n",
    "import os\n",
    "import random\n",
    "from glob import glob\n",
    "import seaborn as sns\n",
    "import datetime\n",
    "\n",
    "print(tf.__version__)\n",
    "print(keras.__version__)"
   ]
  },
  {
   "cell_type": "markdown",
   "id": "6599e612",
   "metadata": {},
   "source": [
    "### uploading files"
   ]
  },
  {
   "cell_type": "code",
   "execution_count": 3,
   "id": "2c21e58f",
   "metadata": {},
   "outputs": [],
   "source": [
    "train_dir=(r'C:\\Users\\vladi\\Desktop\\chernet\\chest_xray\\train')\n",
    "val_dir=(r'C:\\Users\\vladi\\Desktop\\chernet\\chest_xray\\val')\n",
    "test_dir=(r'C:\\Users\\vladi\\Desktop\\chernet\\chest_xray\\test')\n",
    "\n",
    "train_normal_dir=(r'C:\\Users\\vladi\\Desktop\\chernet\\chest_xray\\train\\NORMAL')\n",
    "train_pneumonia_dir=(r'C:\\Users\\vladi\\Desktop\\chernet\\chest_xray\\train\\PNEUMONIA')\n",
    "val_normal_dir=(r'C:\\Users\\vladi\\Desktop\\chernet\\chest_xray\\val\\NORMAL')\n",
    "val_pneumonia_dir=(r'C:\\Users\\vladi\\Desktop\\chernet\\chest_xray\\val\\PNEUMONIA')\n"
   ]
  },
  {
   "cell_type": "markdown",
   "id": "9a3d43f7",
   "metadata": {},
   "source": [
    "### Division into variables, normalization, definition of values ​​for model creation"
   ]
  },
  {
   "cell_type": "code",
   "execution_count": 4,
   "id": "f9a5753b",
   "metadata": {},
   "outputs": [
    {
     "name": "stdout",
     "output_type": "stream",
     "text": [
      "Found 5216 files belonging to 2 classes.\n",
      "Using 4173 files for training.\n",
      "Found 5216 files belonging to 2 classes.\n",
      "Using 1043 files for validation.\n",
      "Found 624 files belonging to 2 classes.\n"
     ]
    }
   ],
   "source": [
    "image_size=(180, 180)\n",
    "\n",
    "seed = np.random.randint(50, dtype=int)\n",
    "\n",
    "# these are all default input values from documentation\n",
    "training_datagen1 = tf.keras.utils.image_dataset_from_directory(\n",
    "    train_dir, labels='inferred', label_mode='categorical',\n",
    "    class_names=None, color_mode='rgb', batch_size=32, image_size=image_size,\n",
    "    shuffle=True, seed=seed, validation_split=0.20, subset='training',\n",
    "    interpolation='bilinear', follow_links=False,\n",
    "    crop_to_aspect_ratio=False\n",
    ")\n",
    "\n",
    "validation_datagen1 = tf.keras.utils.image_dataset_from_directory(\n",
    "    train_dir, labels='inferred', label_mode='categorical',\n",
    "    class_names=None, color_mode='rgb', batch_size=32, image_size=image_size, \n",
    "    shuffle=True, seed=seed, validation_split=0.20, subset='validation',\n",
    "    interpolation='bilinear', follow_links=False,\n",
    "    crop_to_aspect_ratio=False\n",
    ")\n",
    "\n",
    "# these are all default input values from documentation\n",
    "test_datagen1 = tf.keras.utils.image_dataset_from_directory(\n",
    "    test_dir, labels='inferred', label_mode='categorical',\n",
    "    class_names=None, color_mode='rgb', batch_size=32, image_size=image_size,\n",
    "    shuffle=True, seed=None, validation_split=None, subset=None,\n",
    "    interpolation='bilinear', follow_links=False,\n",
    "    crop_to_aspect_ratio=False\n",
    "\n",
    "    \n",
    ")"
   ]
  },
  {
   "cell_type": "code",
   "execution_count": 5,
   "id": "87007b63",
   "metadata": {},
   "outputs": [],
   "source": [
    "pretrained_model1 = ResNet50(weights= 'imagenet', include_top=False, input_shape= (180,180,3))\n",
    "\n",
    "for layers in pretrained_model1.layers:\n",
    "    layers.trainable = False   "
   ]
  },
  {
   "cell_type": "code",
   "execution_count": 6,
   "id": "99e763f1",
   "metadata": {},
   "outputs": [
    {
     "name": "stdout",
     "output_type": "stream",
     "text": [
      "Model: \"model\"\n",
      "__________________________________________________________________________________________________\n",
      " Layer (type)                   Output Shape         Param #     Connected to                     \n",
      "==================================================================================================\n",
      " input_1 (InputLayer)           [(None, 180, 180, 3  0           []                               \n",
      "                                )]                                                                \n",
      "                                                                                                  \n",
      " conv1_pad (ZeroPadding2D)      (None, 186, 186, 3)  0           ['input_1[0][0]']                \n",
      "                                                                                                  \n",
      " conv1_conv (Conv2D)            (None, 90, 90, 64)   9472        ['conv1_pad[0][0]']              \n",
      "                                                                                                  \n",
      " conv1_bn (BatchNormalization)  (None, 90, 90, 64)   256         ['conv1_conv[0][0]']             \n",
      "                                                                                                  \n",
      " conv1_relu (Activation)        (None, 90, 90, 64)   0           ['conv1_bn[0][0]']               \n",
      "                                                                                                  \n",
      " pool1_pad (ZeroPadding2D)      (None, 92, 92, 64)   0           ['conv1_relu[0][0]']             \n",
      "                                                                                                  \n",
      " pool1_pool (MaxPooling2D)      (None, 45, 45, 64)   0           ['pool1_pad[0][0]']              \n",
      "                                                                                                  \n",
      " conv2_block1_1_conv (Conv2D)   (None, 45, 45, 64)   4160        ['pool1_pool[0][0]']             \n",
      "                                                                                                  \n",
      " conv2_block1_1_bn (BatchNormal  (None, 45, 45, 64)  256         ['conv2_block1_1_conv[0][0]']    \n",
      " ization)                                                                                         \n",
      "                                                                                                  \n",
      " conv2_block1_1_relu (Activatio  (None, 45, 45, 64)  0           ['conv2_block1_1_bn[0][0]']      \n",
      " n)                                                                                               \n",
      "                                                                                                  \n",
      " conv2_block1_2_conv (Conv2D)   (None, 45, 45, 64)   36928       ['conv2_block1_1_relu[0][0]']    \n",
      "                                                                                                  \n",
      " conv2_block1_2_bn (BatchNormal  (None, 45, 45, 64)  256         ['conv2_block1_2_conv[0][0]']    \n",
      " ization)                                                                                         \n",
      "                                                                                                  \n",
      " conv2_block1_2_relu (Activatio  (None, 45, 45, 64)  0           ['conv2_block1_2_bn[0][0]']      \n",
      " n)                                                                                               \n",
      "                                                                                                  \n",
      " conv2_block1_0_conv (Conv2D)   (None, 45, 45, 256)  16640       ['pool1_pool[0][0]']             \n",
      "                                                                                                  \n",
      " conv2_block1_3_conv (Conv2D)   (None, 45, 45, 256)  16640       ['conv2_block1_2_relu[0][0]']    \n",
      "                                                                                                  \n",
      " conv2_block1_0_bn (BatchNormal  (None, 45, 45, 256)  1024       ['conv2_block1_0_conv[0][0]']    \n",
      " ization)                                                                                         \n",
      "                                                                                                  \n",
      " conv2_block1_3_bn (BatchNormal  (None, 45, 45, 256)  1024       ['conv2_block1_3_conv[0][0]']    \n",
      " ization)                                                                                         \n",
      "                                                                                                  \n",
      " conv2_block1_add (Add)         (None, 45, 45, 256)  0           ['conv2_block1_0_bn[0][0]',      \n",
      "                                                                  'conv2_block1_3_bn[0][0]']      \n",
      "                                                                                                  \n",
      " conv2_block1_out (Activation)  (None, 45, 45, 256)  0           ['conv2_block1_add[0][0]']       \n",
      "                                                                                                  \n",
      " conv2_block2_1_conv (Conv2D)   (None, 45, 45, 64)   16448       ['conv2_block1_out[0][0]']       \n",
      "                                                                                                  \n",
      " conv2_block2_1_bn (BatchNormal  (None, 45, 45, 64)  256         ['conv2_block2_1_conv[0][0]']    \n",
      " ization)                                                                                         \n",
      "                                                                                                  \n",
      " conv2_block2_1_relu (Activatio  (None, 45, 45, 64)  0           ['conv2_block2_1_bn[0][0]']      \n",
      " n)                                                                                               \n",
      "                                                                                                  \n",
      " conv2_block2_2_conv (Conv2D)   (None, 45, 45, 64)   36928       ['conv2_block2_1_relu[0][0]']    \n",
      "                                                                                                  \n",
      " conv2_block2_2_bn (BatchNormal  (None, 45, 45, 64)  256         ['conv2_block2_2_conv[0][0]']    \n",
      " ization)                                                                                         \n",
      "                                                                                                  \n",
      " conv2_block2_2_relu (Activatio  (None, 45, 45, 64)  0           ['conv2_block2_2_bn[0][0]']      \n",
      " n)                                                                                               \n",
      "                                                                                                  \n",
      " conv2_block2_3_conv (Conv2D)   (None, 45, 45, 256)  16640       ['conv2_block2_2_relu[0][0]']    \n",
      "                                                                                                  \n",
      " conv2_block2_3_bn (BatchNormal  (None, 45, 45, 256)  1024       ['conv2_block2_3_conv[0][0]']    \n",
      " ization)                                                                                         \n",
      "                                                                                                  \n",
      " conv2_block2_add (Add)         (None, 45, 45, 256)  0           ['conv2_block1_out[0][0]',       \n",
      "                                                                  'conv2_block2_3_bn[0][0]']      \n",
      "                                                                                                  \n",
      " conv2_block2_out (Activation)  (None, 45, 45, 256)  0           ['conv2_block2_add[0][0]']       \n",
      "                                                                                                  \n",
      " conv2_block3_1_conv (Conv2D)   (None, 45, 45, 64)   16448       ['conv2_block2_out[0][0]']       \n",
      "                                                                                                  \n",
      " conv2_block3_1_bn (BatchNormal  (None, 45, 45, 64)  256         ['conv2_block3_1_conv[0][0]']    \n",
      " ization)                                                                                         \n",
      "                                                                                                  \n",
      " conv2_block3_1_relu (Activatio  (None, 45, 45, 64)  0           ['conv2_block3_1_bn[0][0]']      \n",
      " n)                                                                                               \n",
      "                                                                                                  \n",
      " conv2_block3_2_conv (Conv2D)   (None, 45, 45, 64)   36928       ['conv2_block3_1_relu[0][0]']    \n",
      "                                                                                                  \n",
      " conv2_block3_2_bn (BatchNormal  (None, 45, 45, 64)  256         ['conv2_block3_2_conv[0][0]']    \n",
      " ization)                                                                                         \n",
      "                                                                                                  \n",
      " conv2_block3_2_relu (Activatio  (None, 45, 45, 64)  0           ['conv2_block3_2_bn[0][0]']      \n",
      " n)                                                                                               \n",
      "                                                                                                  \n",
      " conv2_block3_3_conv (Conv2D)   (None, 45, 45, 256)  16640       ['conv2_block3_2_relu[0][0]']    \n",
      "                                                                                                  \n",
      " conv2_block3_3_bn (BatchNormal  (None, 45, 45, 256)  1024       ['conv2_block3_3_conv[0][0]']    \n",
      " ization)                                                                                         \n",
      "                                                                                                  \n",
      " conv2_block3_add (Add)         (None, 45, 45, 256)  0           ['conv2_block2_out[0][0]',       \n",
      "                                                                  'conv2_block3_3_bn[0][0]']      \n",
      "                                                                                                  \n",
      " conv2_block3_out (Activation)  (None, 45, 45, 256)  0           ['conv2_block3_add[0][0]']       \n",
      "                                                                                                  \n",
      " conv3_block1_1_conv (Conv2D)   (None, 23, 23, 128)  32896       ['conv2_block3_out[0][0]']       \n",
      "                                                                                                  \n",
      " conv3_block1_1_bn (BatchNormal  (None, 23, 23, 128)  512        ['conv3_block1_1_conv[0][0]']    \n",
      " ization)                                                                                         \n",
      "                                                                                                  \n",
      " conv3_block1_1_relu (Activatio  (None, 23, 23, 128)  0          ['conv3_block1_1_bn[0][0]']      \n",
      " n)                                                                                               \n",
      "                                                                                                  \n",
      " conv3_block1_2_conv (Conv2D)   (None, 23, 23, 128)  147584      ['conv3_block1_1_relu[0][0]']    \n",
      "                                                                                                  \n",
      " conv3_block1_2_bn (BatchNormal  (None, 23, 23, 128)  512        ['conv3_block1_2_conv[0][0]']    \n",
      " ization)                                                                                         \n",
      "                                                                                                  \n",
      " conv3_block1_2_relu (Activatio  (None, 23, 23, 128)  0          ['conv3_block1_2_bn[0][0]']      \n",
      " n)                                                                                               \n",
      "                                                                                                  \n",
      " conv3_block1_0_conv (Conv2D)   (None, 23, 23, 512)  131584      ['conv2_block3_out[0][0]']       \n",
      "                                                                                                  \n",
      " conv3_block1_3_conv (Conv2D)   (None, 23, 23, 512)  66048       ['conv3_block1_2_relu[0][0]']    \n",
      "                                                                                                  \n",
      " conv3_block1_0_bn (BatchNormal  (None, 23, 23, 512)  2048       ['conv3_block1_0_conv[0][0]']    \n",
      " ization)                                                                                         \n",
      "                                                                                                  \n",
      " conv3_block1_3_bn (BatchNormal  (None, 23, 23, 512)  2048       ['conv3_block1_3_conv[0][0]']    \n",
      " ization)                                                                                         \n",
      "                                                                                                  \n",
      " conv3_block1_add (Add)         (None, 23, 23, 512)  0           ['conv3_block1_0_bn[0][0]',      \n",
      "                                                                  'conv3_block1_3_bn[0][0]']      \n",
      "                                                                                                  \n",
      " conv3_block1_out (Activation)  (None, 23, 23, 512)  0           ['conv3_block1_add[0][0]']       \n",
      "                                                                                                  \n",
      " conv3_block2_1_conv (Conv2D)   (None, 23, 23, 128)  65664       ['conv3_block1_out[0][0]']       \n",
      "                                                                                                  \n",
      " conv3_block2_1_bn (BatchNormal  (None, 23, 23, 128)  512        ['conv3_block2_1_conv[0][0]']    \n",
      " ization)                                                                                         \n",
      "                                                                                                  \n",
      " conv3_block2_1_relu (Activatio  (None, 23, 23, 128)  0          ['conv3_block2_1_bn[0][0]']      \n",
      " n)                                                                                               \n",
      "                                                                                                  \n",
      " conv3_block2_2_conv (Conv2D)   (None, 23, 23, 128)  147584      ['conv3_block2_1_relu[0][0]']    \n",
      "                                                                                                  \n",
      " conv3_block2_2_bn (BatchNormal  (None, 23, 23, 128)  512        ['conv3_block2_2_conv[0][0]']    \n",
      " ization)                                                                                         \n",
      "                                                                                                  \n",
      " conv3_block2_2_relu (Activatio  (None, 23, 23, 128)  0          ['conv3_block2_2_bn[0][0]']      \n",
      " n)                                                                                               \n",
      "                                                                                                  \n",
      " conv3_block2_3_conv (Conv2D)   (None, 23, 23, 512)  66048       ['conv3_block2_2_relu[0][0]']    \n",
      "                                                                                                  \n",
      " conv3_block2_3_bn (BatchNormal  (None, 23, 23, 512)  2048       ['conv3_block2_3_conv[0][0]']    \n",
      " ization)                                                                                         \n",
      "                                                                                                  \n",
      " conv3_block2_add (Add)         (None, 23, 23, 512)  0           ['conv3_block1_out[0][0]',       \n",
      "                                                                  'conv3_block2_3_bn[0][0]']      \n",
      "                                                                                                  \n",
      " conv3_block2_out (Activation)  (None, 23, 23, 512)  0           ['conv3_block2_add[0][0]']       \n",
      "                                                                                                  \n",
      " conv3_block3_1_conv (Conv2D)   (None, 23, 23, 128)  65664       ['conv3_block2_out[0][0]']       \n",
      "                                                                                                  \n",
      " conv3_block3_1_bn (BatchNormal  (None, 23, 23, 128)  512        ['conv3_block3_1_conv[0][0]']    \n",
      " ization)                                                                                         \n",
      "                                                                                                  \n",
      " conv3_block3_1_relu (Activatio  (None, 23, 23, 128)  0          ['conv3_block3_1_bn[0][0]']      \n",
      " n)                                                                                               \n",
      "                                                                                                  \n",
      " conv3_block3_2_conv (Conv2D)   (None, 23, 23, 128)  147584      ['conv3_block3_1_relu[0][0]']    \n",
      "                                                                                                  \n",
      " conv3_block3_2_bn (BatchNormal  (None, 23, 23, 128)  512        ['conv3_block3_2_conv[0][0]']    \n",
      " ization)                                                                                         \n",
      "                                                                                                  \n",
      " conv3_block3_2_relu (Activatio  (None, 23, 23, 128)  0          ['conv3_block3_2_bn[0][0]']      \n",
      " n)                                                                                               \n",
      "                                                                                                  \n",
      " conv3_block3_3_conv (Conv2D)   (None, 23, 23, 512)  66048       ['conv3_block3_2_relu[0][0]']    \n",
      "                                                                                                  \n",
      " conv3_block3_3_bn (BatchNormal  (None, 23, 23, 512)  2048       ['conv3_block3_3_conv[0][0]']    \n",
      " ization)                                                                                         \n",
      "                                                                                                  \n",
      " conv3_block3_add (Add)         (None, 23, 23, 512)  0           ['conv3_block2_out[0][0]',       \n",
      "                                                                  'conv3_block3_3_bn[0][0]']      \n",
      "                                                                                                  \n",
      " conv3_block3_out (Activation)  (None, 23, 23, 512)  0           ['conv3_block3_add[0][0]']       \n",
      "                                                                                                  \n",
      " conv3_block4_1_conv (Conv2D)   (None, 23, 23, 128)  65664       ['conv3_block3_out[0][0]']       \n",
      "                                                                                                  \n",
      " conv3_block4_1_bn (BatchNormal  (None, 23, 23, 128)  512        ['conv3_block4_1_conv[0][0]']    \n",
      " ization)                                                                                         \n",
      "                                                                                                  \n",
      " conv3_block4_1_relu (Activatio  (None, 23, 23, 128)  0          ['conv3_block4_1_bn[0][0]']      \n",
      " n)                                                                                               \n",
      "                                                                                                  \n",
      " conv3_block4_2_conv (Conv2D)   (None, 23, 23, 128)  147584      ['conv3_block4_1_relu[0][0]']    \n",
      "                                                                                                  \n",
      " conv3_block4_2_bn (BatchNormal  (None, 23, 23, 128)  512        ['conv3_block4_2_conv[0][0]']    \n",
      " ization)                                                                                         \n",
      "                                                                                                  \n",
      " conv3_block4_2_relu (Activatio  (None, 23, 23, 128)  0          ['conv3_block4_2_bn[0][0]']      \n",
      " n)                                                                                               \n",
      "                                                                                                  \n",
      " conv3_block4_3_conv (Conv2D)   (None, 23, 23, 512)  66048       ['conv3_block4_2_relu[0][0]']    \n",
      "                                                                                                  \n",
      " conv3_block4_3_bn (BatchNormal  (None, 23, 23, 512)  2048       ['conv3_block4_3_conv[0][0]']    \n",
      " ization)                                                                                         \n",
      "                                                                                                  \n",
      " conv3_block4_add (Add)         (None, 23, 23, 512)  0           ['conv3_block3_out[0][0]',       \n",
      "                                                                  'conv3_block4_3_bn[0][0]']      \n",
      "                                                                                                  \n",
      " conv3_block4_out (Activation)  (None, 23, 23, 512)  0           ['conv3_block4_add[0][0]']       \n",
      "                                                                                                  \n",
      " conv4_block1_1_conv (Conv2D)   (None, 12, 12, 256)  131328      ['conv3_block4_out[0][0]']       \n",
      "                                                                                                  \n",
      " conv4_block1_1_bn (BatchNormal  (None, 12, 12, 256)  1024       ['conv4_block1_1_conv[0][0]']    \n",
      " ization)                                                                                         \n",
      "                                                                                                  \n",
      " conv4_block1_1_relu (Activatio  (None, 12, 12, 256)  0          ['conv4_block1_1_bn[0][0]']      \n",
      " n)                                                                                               \n",
      "                                                                                                  \n",
      " conv4_block1_2_conv (Conv2D)   (None, 12, 12, 256)  590080      ['conv4_block1_1_relu[0][0]']    \n",
      "                                                                                                  \n",
      " conv4_block1_2_bn (BatchNormal  (None, 12, 12, 256)  1024       ['conv4_block1_2_conv[0][0]']    \n",
      " ization)                                                                                         \n",
      "                                                                                                  \n",
      " conv4_block1_2_relu (Activatio  (None, 12, 12, 256)  0          ['conv4_block1_2_bn[0][0]']      \n",
      " n)                                                                                               \n",
      "                                                                                                  \n",
      " conv4_block1_0_conv (Conv2D)   (None, 12, 12, 1024  525312      ['conv3_block4_out[0][0]']       \n",
      "                                )                                                                 \n",
      "                                                                                                  \n",
      " conv4_block1_3_conv (Conv2D)   (None, 12, 12, 1024  263168      ['conv4_block1_2_relu[0][0]']    \n",
      "                                )                                                                 \n",
      "                                                                                                  \n",
      " conv4_block1_0_bn (BatchNormal  (None, 12, 12, 1024  4096       ['conv4_block1_0_conv[0][0]']    \n",
      " ization)                       )                                                                 \n",
      "                                                                                                  \n",
      " conv4_block1_3_bn (BatchNormal  (None, 12, 12, 1024  4096       ['conv4_block1_3_conv[0][0]']    \n",
      " ization)                       )                                                                 \n",
      "                                                                                                  \n",
      " conv4_block1_add (Add)         (None, 12, 12, 1024  0           ['conv4_block1_0_bn[0][0]',      \n",
      "                                )                                 'conv4_block1_3_bn[0][0]']      \n",
      "                                                                                                  \n",
      " conv4_block1_out (Activation)  (None, 12, 12, 1024  0           ['conv4_block1_add[0][0]']       \n",
      "                                )                                                                 \n",
      "                                                                                                  \n",
      " conv4_block2_1_conv (Conv2D)   (None, 12, 12, 256)  262400      ['conv4_block1_out[0][0]']       \n",
      "                                                                                                  \n",
      " conv4_block2_1_bn (BatchNormal  (None, 12, 12, 256)  1024       ['conv4_block2_1_conv[0][0]']    \n",
      " ization)                                                                                         \n",
      "                                                                                                  \n",
      " conv4_block2_1_relu (Activatio  (None, 12, 12, 256)  0          ['conv4_block2_1_bn[0][0]']      \n",
      " n)                                                                                               \n",
      "                                                                                                  \n",
      " conv4_block2_2_conv (Conv2D)   (None, 12, 12, 256)  590080      ['conv4_block2_1_relu[0][0]']    \n",
      "                                                                                                  \n",
      " conv4_block2_2_bn (BatchNormal  (None, 12, 12, 256)  1024       ['conv4_block2_2_conv[0][0]']    \n",
      " ization)                                                                                         \n",
      "                                                                                                  \n",
      " conv4_block2_2_relu (Activatio  (None, 12, 12, 256)  0          ['conv4_block2_2_bn[0][0]']      \n",
      " n)                                                                                               \n",
      "                                                                                                  \n",
      " conv4_block2_3_conv (Conv2D)   (None, 12, 12, 1024  263168      ['conv4_block2_2_relu[0][0]']    \n",
      "                                )                                                                 \n",
      "                                                                                                  \n",
      " conv4_block2_3_bn (BatchNormal  (None, 12, 12, 1024  4096       ['conv4_block2_3_conv[0][0]']    \n",
      " ization)                       )                                                                 \n",
      "                                                                                                  \n",
      " conv4_block2_add (Add)         (None, 12, 12, 1024  0           ['conv4_block1_out[0][0]',       \n",
      "                                )                                 'conv4_block2_3_bn[0][0]']      \n",
      "                                                                                                  \n",
      " conv4_block2_out (Activation)  (None, 12, 12, 1024  0           ['conv4_block2_add[0][0]']       \n",
      "                                )                                                                 \n",
      "                                                                                                  \n",
      " conv4_block3_1_conv (Conv2D)   (None, 12, 12, 256)  262400      ['conv4_block2_out[0][0]']       \n",
      "                                                                                                  \n",
      " conv4_block3_1_bn (BatchNormal  (None, 12, 12, 256)  1024       ['conv4_block3_1_conv[0][0]']    \n",
      " ization)                                                                                         \n",
      "                                                                                                  \n",
      " conv4_block3_1_relu (Activatio  (None, 12, 12, 256)  0          ['conv4_block3_1_bn[0][0]']      \n",
      " n)                                                                                               \n",
      "                                                                                                  \n",
      " conv4_block3_2_conv (Conv2D)   (None, 12, 12, 256)  590080      ['conv4_block3_1_relu[0][0]']    \n",
      "                                                                                                  \n",
      " conv4_block3_2_bn (BatchNormal  (None, 12, 12, 256)  1024       ['conv4_block3_2_conv[0][0]']    \n",
      " ization)                                                                                         \n",
      "                                                                                                  \n",
      " conv4_block3_2_relu (Activatio  (None, 12, 12, 256)  0          ['conv4_block3_2_bn[0][0]']      \n",
      " n)                                                                                               \n",
      "                                                                                                  \n",
      " conv4_block3_3_conv (Conv2D)   (None, 12, 12, 1024  263168      ['conv4_block3_2_relu[0][0]']    \n",
      "                                )                                                                 \n",
      "                                                                                                  \n",
      " conv4_block3_3_bn (BatchNormal  (None, 12, 12, 1024  4096       ['conv4_block3_3_conv[0][0]']    \n",
      " ization)                       )                                                                 \n",
      "                                                                                                  \n",
      " conv4_block3_add (Add)         (None, 12, 12, 1024  0           ['conv4_block2_out[0][0]',       \n",
      "                                )                                 'conv4_block3_3_bn[0][0]']      \n",
      "                                                                                                  \n",
      " conv4_block3_out (Activation)  (None, 12, 12, 1024  0           ['conv4_block3_add[0][0]']       \n",
      "                                )                                                                 \n",
      "                                                                                                  \n",
      " conv4_block4_1_conv (Conv2D)   (None, 12, 12, 256)  262400      ['conv4_block3_out[0][0]']       \n",
      "                                                                                                  \n",
      " conv4_block4_1_bn (BatchNormal  (None, 12, 12, 256)  1024       ['conv4_block4_1_conv[0][0]']    \n",
      " ization)                                                                                         \n",
      "                                                                                                  \n",
      " conv4_block4_1_relu (Activatio  (None, 12, 12, 256)  0          ['conv4_block4_1_bn[0][0]']      \n",
      " n)                                                                                               \n",
      "                                                                                                  \n",
      " conv4_block4_2_conv (Conv2D)   (None, 12, 12, 256)  590080      ['conv4_block4_1_relu[0][0]']    \n",
      "                                                                                                  \n",
      " conv4_block4_2_bn (BatchNormal  (None, 12, 12, 256)  1024       ['conv4_block4_2_conv[0][0]']    \n",
      " ization)                                                                                         \n",
      "                                                                                                  \n",
      " conv4_block4_2_relu (Activatio  (None, 12, 12, 256)  0          ['conv4_block4_2_bn[0][0]']      \n",
      " n)                                                                                               \n",
      "                                                                                                  \n",
      " conv4_block4_3_conv (Conv2D)   (None, 12, 12, 1024  263168      ['conv4_block4_2_relu[0][0]']    \n",
      "                                )                                                                 \n",
      "                                                                                                  \n",
      " conv4_block4_3_bn (BatchNormal  (None, 12, 12, 1024  4096       ['conv4_block4_3_conv[0][0]']    \n",
      " ization)                       )                                                                 \n",
      "                                                                                                  \n",
      " conv4_block4_add (Add)         (None, 12, 12, 1024  0           ['conv4_block3_out[0][0]',       \n",
      "                                )                                 'conv4_block4_3_bn[0][0]']      \n",
      "                                                                                                  \n",
      " conv4_block4_out (Activation)  (None, 12, 12, 1024  0           ['conv4_block4_add[0][0]']       \n",
      "                                )                                                                 \n",
      "                                                                                                  \n",
      " conv4_block5_1_conv (Conv2D)   (None, 12, 12, 256)  262400      ['conv4_block4_out[0][0]']       \n",
      "                                                                                                  \n",
      " conv4_block5_1_bn (BatchNormal  (None, 12, 12, 256)  1024       ['conv4_block5_1_conv[0][0]']    \n",
      " ization)                                                                                         \n",
      "                                                                                                  \n",
      " conv4_block5_1_relu (Activatio  (None, 12, 12, 256)  0          ['conv4_block5_1_bn[0][0]']      \n",
      " n)                                                                                               \n",
      "                                                                                                  \n",
      " conv4_block5_2_conv (Conv2D)   (None, 12, 12, 256)  590080      ['conv4_block5_1_relu[0][0]']    \n",
      "                                                                                                  \n",
      " conv4_block5_2_bn (BatchNormal  (None, 12, 12, 256)  1024       ['conv4_block5_2_conv[0][0]']    \n",
      " ization)                                                                                         \n",
      "                                                                                                  \n",
      " conv4_block5_2_relu (Activatio  (None, 12, 12, 256)  0          ['conv4_block5_2_bn[0][0]']      \n",
      " n)                                                                                               \n",
      "                                                                                                  \n",
      " conv4_block5_3_conv (Conv2D)   (None, 12, 12, 1024  263168      ['conv4_block5_2_relu[0][0]']    \n",
      "                                )                                                                 \n",
      "                                                                                                  \n",
      " conv4_block5_3_bn (BatchNormal  (None, 12, 12, 1024  4096       ['conv4_block5_3_conv[0][0]']    \n",
      " ization)                       )                                                                 \n",
      "                                                                                                  \n",
      " conv4_block5_add (Add)         (None, 12, 12, 1024  0           ['conv4_block4_out[0][0]',       \n",
      "                                )                                 'conv4_block5_3_bn[0][0]']      \n",
      "                                                                                                  \n",
      " conv4_block5_out (Activation)  (None, 12, 12, 1024  0           ['conv4_block5_add[0][0]']       \n",
      "                                )                                                                 \n",
      "                                                                                                  \n",
      " conv4_block6_1_conv (Conv2D)   (None, 12, 12, 256)  262400      ['conv4_block5_out[0][0]']       \n",
      "                                                                                                  \n",
      " conv4_block6_1_bn (BatchNormal  (None, 12, 12, 256)  1024       ['conv4_block6_1_conv[0][0]']    \n",
      " ization)                                                                                         \n",
      "                                                                                                  \n",
      " conv4_block6_1_relu (Activatio  (None, 12, 12, 256)  0          ['conv4_block6_1_bn[0][0]']      \n",
      " n)                                                                                               \n",
      "                                                                                                  \n",
      " conv4_block6_2_conv (Conv2D)   (None, 12, 12, 256)  590080      ['conv4_block6_1_relu[0][0]']    \n",
      "                                                                                                  \n",
      " conv4_block6_2_bn (BatchNormal  (None, 12, 12, 256)  1024       ['conv4_block6_2_conv[0][0]']    \n",
      " ization)                                                                                         \n",
      "                                                                                                  \n",
      " conv4_block6_2_relu (Activatio  (None, 12, 12, 256)  0          ['conv4_block6_2_bn[0][0]']      \n",
      " n)                                                                                               \n",
      "                                                                                                  \n",
      " conv4_block6_3_conv (Conv2D)   (None, 12, 12, 1024  263168      ['conv4_block6_2_relu[0][0]']    \n",
      "                                )                                                                 \n",
      "                                                                                                  \n",
      " conv4_block6_3_bn (BatchNormal  (None, 12, 12, 1024  4096       ['conv4_block6_3_conv[0][0]']    \n",
      " ization)                       )                                                                 \n",
      "                                                                                                  \n",
      " conv4_block6_add (Add)         (None, 12, 12, 1024  0           ['conv4_block5_out[0][0]',       \n",
      "                                )                                 'conv4_block6_3_bn[0][0]']      \n",
      "                                                                                                  \n",
      " conv4_block6_out (Activation)  (None, 12, 12, 1024  0           ['conv4_block6_add[0][0]']       \n",
      "                                )                                                                 \n",
      "                                                                                                  \n",
      " conv5_block1_1_conv (Conv2D)   (None, 6, 6, 512)    524800      ['conv4_block6_out[0][0]']       \n",
      "                                                                                                  \n",
      " conv5_block1_1_bn (BatchNormal  (None, 6, 6, 512)   2048        ['conv5_block1_1_conv[0][0]']    \n",
      " ization)                                                                                         \n",
      "                                                                                                  \n",
      " conv5_block1_1_relu (Activatio  (None, 6, 6, 512)   0           ['conv5_block1_1_bn[0][0]']      \n",
      " n)                                                                                               \n",
      "                                                                                                  \n",
      " conv5_block1_2_conv (Conv2D)   (None, 6, 6, 512)    2359808     ['conv5_block1_1_relu[0][0]']    \n",
      "                                                                                                  \n",
      " conv5_block1_2_bn (BatchNormal  (None, 6, 6, 512)   2048        ['conv5_block1_2_conv[0][0]']    \n",
      " ization)                                                                                         \n",
      "                                                                                                  \n",
      " conv5_block1_2_relu (Activatio  (None, 6, 6, 512)   0           ['conv5_block1_2_bn[0][0]']      \n",
      " n)                                                                                               \n",
      "                                                                                                  \n",
      " conv5_block1_0_conv (Conv2D)   (None, 6, 6, 2048)   2099200     ['conv4_block6_out[0][0]']       \n",
      "                                                                                                  \n",
      " conv5_block1_3_conv (Conv2D)   (None, 6, 6, 2048)   1050624     ['conv5_block1_2_relu[0][0]']    \n",
      "                                                                                                  \n",
      " conv5_block1_0_bn (BatchNormal  (None, 6, 6, 2048)  8192        ['conv5_block1_0_conv[0][0]']    \n",
      " ization)                                                                                         \n",
      "                                                                                                  \n",
      " conv5_block1_3_bn (BatchNormal  (None, 6, 6, 2048)  8192        ['conv5_block1_3_conv[0][0]']    \n",
      " ization)                                                                                         \n",
      "                                                                                                  \n",
      " conv5_block1_add (Add)         (None, 6, 6, 2048)   0           ['conv5_block1_0_bn[0][0]',      \n",
      "                                                                  'conv5_block1_3_bn[0][0]']      \n",
      "                                                                                                  \n",
      " conv5_block1_out (Activation)  (None, 6, 6, 2048)   0           ['conv5_block1_add[0][0]']       \n",
      "                                                                                                  \n",
      " conv5_block2_1_conv (Conv2D)   (None, 6, 6, 512)    1049088     ['conv5_block1_out[0][0]']       \n",
      "                                                                                                  \n",
      " conv5_block2_1_bn (BatchNormal  (None, 6, 6, 512)   2048        ['conv5_block2_1_conv[0][0]']    \n",
      " ization)                                                                                         \n",
      "                                                                                                  \n",
      " conv5_block2_1_relu (Activatio  (None, 6, 6, 512)   0           ['conv5_block2_1_bn[0][0]']      \n",
      " n)                                                                                               \n",
      "                                                                                                  \n",
      " conv5_block2_2_conv (Conv2D)   (None, 6, 6, 512)    2359808     ['conv5_block2_1_relu[0][0]']    \n",
      "                                                                                                  \n",
      " conv5_block2_2_bn (BatchNormal  (None, 6, 6, 512)   2048        ['conv5_block2_2_conv[0][0]']    \n",
      " ization)                                                                                         \n",
      "                                                                                                  \n",
      " conv5_block2_2_relu (Activatio  (None, 6, 6, 512)   0           ['conv5_block2_2_bn[0][0]']      \n",
      " n)                                                                                               \n",
      "                                                                                                  \n",
      " conv5_block2_3_conv (Conv2D)   (None, 6, 6, 2048)   1050624     ['conv5_block2_2_relu[0][0]']    \n",
      "                                                                                                  \n",
      " conv5_block2_3_bn (BatchNormal  (None, 6, 6, 2048)  8192        ['conv5_block2_3_conv[0][0]']    \n",
      " ization)                                                                                         \n",
      "                                                                                                  \n",
      " conv5_block2_add (Add)         (None, 6, 6, 2048)   0           ['conv5_block1_out[0][0]',       \n",
      "                                                                  'conv5_block2_3_bn[0][0]']      \n",
      "                                                                                                  \n",
      " conv5_block2_out (Activation)  (None, 6, 6, 2048)   0           ['conv5_block2_add[0][0]']       \n",
      "                                                                                                  \n",
      " conv5_block3_1_conv (Conv2D)   (None, 6, 6, 512)    1049088     ['conv5_block2_out[0][0]']       \n",
      "                                                                                                  \n",
      " conv5_block3_1_bn (BatchNormal  (None, 6, 6, 512)   2048        ['conv5_block3_1_conv[0][0]']    \n",
      " ization)                                                                                         \n",
      "                                                                                                  \n",
      " conv5_block3_1_relu (Activatio  (None, 6, 6, 512)   0           ['conv5_block3_1_bn[0][0]']      \n",
      " n)                                                                                               \n",
      "                                                                                                  \n",
      " flatten (Flatten)              (None, 18432)        0           ['conv5_block3_1_relu[0][0]']    \n",
      "                                                                                                  \n",
      " dense (Dense)                  (None, 128)          2359424     ['flatten[0][0]']                \n",
      "                                                                                                  \n",
      " dropout (Dropout)              (None, 128)          0           ['dense[0][0]']                  \n",
      "                                                                                                  \n",
      " dense_1 (Dense)                (None, 64)           8256        ['dropout[0][0]']                \n",
      "                                                                                                  \n",
      " dropout_1 (Dropout)            (None, 64)           0           ['dense_1[0][0]']                \n",
      "                                                                                                  \n",
      " dense_2 (Dense)                (None, 2)            130         ['dropout_1[0][0]']              \n",
      "                                                                                                  \n",
      "==================================================================================================\n",
      "Total params: 22,534,850\n",
      "Trainable params: 2,367,810\n",
      "Non-trainable params: 20,167,040\n",
      "__________________________________________________________________________________________________\n",
      "The num of our layers in the model is: 174\n"
     ]
    },
    {
     "name": "stderr",
     "output_type": "stream",
     "text": [
      "C:\\Users\\vladi\\AppData\\Roaming\\Python\\Python39\\site-packages\\keras\\optimizer_v2\\adam.py:105: UserWarning: The `lr` argument is deprecated, use `learning_rate` instead.\n",
      "  super(Adam, self).__init__(name, **kwargs)\n"
     ]
    }
   ],
   "source": [
    "last_layer=pretrained_model1.get_layer('conv5_block3_1_relu')\n",
    "last_output = last_layer.output\n",
    "\n",
    "x=tf.keras.layers.Flatten()(last_output)\n",
    "x=tf.keras.layers.Dense(128,activation='relu')(x)\n",
    "x=tf.keras.layers.Dropout(0.2)(x)\n",
    "x=tf.keras.layers.Dense(64,activation='relu')(x)\n",
    "x=tf.keras.layers.Dropout(0.2)(x)\n",
    "x=tf.keras.layers.Dense(2,activation='sigmoid')(x)\n",
    "\n",
    "model1=tf.keras.Model(pretrained_model1.input,x)\n",
    "\n",
    "model1.compile(optimizer=Adam(lr=0.0001),\n",
    "              loss='binary_crossentropy',\n",
    "               metrics=['accuracy','Precision','Recall'])\n",
    "\n",
    "model1.summary()\n",
    "print (\"The num of our layers in the model is:\",len(model1.layers))"
   ]
  },
  {
   "cell_type": "code",
   "execution_count": 7,
   "id": "e6448e6d",
   "metadata": {},
   "outputs": [],
   "source": [
    "from keras.callbacks import LearningRateScheduler\n",
    "def ir_scheduler(epoch, lr):\n",
    "   decay_rate=0.8\n",
    "   decay_step=1\n",
    "   if epoch % decay_step == 0 and epoch:\n",
    "        return lr * pow(decay_rate,np.floor(epoch / decay_step))\n",
    "   return lr "
   ]
  },
  {
   "cell_type": "code",
   "execution_count": 8,
   "id": "9b83f092",
   "metadata": {},
   "outputs": [],
   "source": [
    "epochs=20\n",
    "learning_rate=LearningRateScheduler(ir_scheduler,verbose=1)\n",
    "Stop_befor=tf.keras.callbacks.EarlyStopping(patience=5,restore_best_weights=True)\n",
    "call_Back=[learning_rate,Stop_befor]\n",
    "\n"
   ]
  },
  {
   "cell_type": "code",
   "execution_count": 9,
   "id": "da6b0a20",
   "metadata": {},
   "outputs": [
    {
     "name": "stdout",
     "output_type": "stream",
     "text": [
      "\n",
      "Epoch 00001: LearningRateScheduler setting learning rate to 9.999999747378752e-05.\n",
      "Epoch 1/20\n",
      "131/131 - 213s - loss: 0.1775 - accuracy: 0.9272 - precision: 0.9236 - recall: 0.9298 - val_loss: 0.0702 - val_accuracy: 0.9808 - val_precision: 0.9789 - val_recall: 0.9799 - lr: 1.0000e-04 - 213s/epoch - 2s/step\n",
      "\n",
      "Epoch 00002: LearningRateScheduler setting learning rate to 7.999999797903001e-05.\n",
      "Epoch 2/20\n",
      "131/131 - 206s - loss: 0.0609 - accuracy: 0.9806 - precision: 0.9796 - recall: 0.9794 - val_loss: 0.0640 - val_accuracy: 0.9827 - val_precision: 0.9837 - val_recall: 0.9808 - lr: 8.0000e-05 - 206s/epoch - 2s/step\n",
      "\n",
      "Epoch 00003: LearningRateScheduler setting learning rate to 5.119999870657922e-05.\n",
      "Epoch 3/20\n",
      "131/131 - 202s - loss: 0.0377 - accuracy: 0.9890 - precision: 0.9897 - recall: 0.9887 - val_loss: 0.0543 - val_accuracy: 0.9827 - val_precision: 0.9828 - val_recall: 0.9837 - lr: 5.1200e-05 - 202s/epoch - 2s/step\n",
      "\n",
      "Epoch 00004: LearningRateScheduler setting learning rate to 2.621439844369889e-05.\n",
      "Epoch 4/20\n",
      "131/131 - 199s - loss: 0.0304 - accuracy: 0.9928 - precision: 0.9911 - recall: 0.9909 - val_loss: 0.0499 - val_accuracy: 0.9837 - val_precision: 0.9846 - val_recall: 0.9827 - lr: 2.6214e-05 - 199s/epoch - 2s/step\n",
      "\n",
      "Epoch 00005: LearningRateScheduler setting learning rate to 1.0737417638301852e-05.\n",
      "Epoch 5/20\n",
      "131/131 - 201s - loss: 0.0249 - accuracy: 0.9933 - precision: 0.9926 - recall: 0.9931 - val_loss: 0.0491 - val_accuracy: 0.9847 - val_precision: 0.9846 - val_recall: 0.9827 - lr: 1.0737e-05 - 201s/epoch - 2s/step\n",
      "\n",
      "Epoch 00006: LearningRateScheduler setting learning rate to 3.518437147140504e-06.\n",
      "Epoch 6/20\n",
      "131/131 - 168s - loss: 0.0237 - accuracy: 0.9935 - precision: 0.9933 - recall: 0.9933 - val_loss: 0.0484 - val_accuracy: 0.9827 - val_precision: 0.9846 - val_recall: 0.9818 - lr: 3.5184e-06 - 168s/epoch - 1s/step\n",
      "\n",
      "Epoch 00007: LearningRateScheduler setting learning rate to 9.223371744155888e-07.\n",
      "Epoch 7/20\n",
      "131/131 - 157s - loss: 0.0222 - accuracy: 0.9952 - precision: 0.9947 - recall: 0.9940 - val_loss: 0.0487 - val_accuracy: 0.9847 - val_precision: 0.9846 - val_recall: 0.9827 - lr: 9.2234e-07 - 157s/epoch - 1s/step\n",
      "\n",
      "Epoch 00008: LearningRateScheduler setting learning rate to 1.9342812299728401e-07.\n",
      "Epoch 8/20\n",
      "131/131 - 157s - loss: 0.0214 - accuracy: 0.9962 - precision: 0.9952 - recall: 0.9962 - val_loss: 0.0487 - val_accuracy: 0.9847 - val_precision: 0.9846 - val_recall: 0.9827 - lr: 1.9343e-07 - 157s/epoch - 1s/step\n",
      "\n",
      "Epoch 00009: LearningRateScheduler setting learning rate to 3.245185375213625e-08.\n",
      "Epoch 9/20\n",
      "131/131 - 156s - loss: 0.0215 - accuracy: 0.9959 - precision: 0.9959 - recall: 0.9962 - val_loss: 0.0487 - val_accuracy: 0.9847 - val_precision: 0.9846 - val_recall: 0.9827 - lr: 3.2452e-08 - 156s/epoch - 1s/step\n",
      "\n",
      "Epoch 00010: LearningRateScheduler setting learning rate to 4.355614185333254e-09.\n",
      "Epoch 10/20\n",
      "131/131 - 155s - loss: 0.0232 - accuracy: 0.9942 - precision: 0.9952 - recall: 0.9928 - val_loss: 0.0487 - val_accuracy: 0.9847 - val_precision: 0.9846 - val_recall: 0.9827 - lr: 4.3556e-09 - 155s/epoch - 1s/step\n",
      "\n",
      "Epoch 00011: LearningRateScheduler setting learning rate to 4.676805019378665e-10.\n",
      "Epoch 11/20\n",
      "131/131 - 152s - loss: 0.0232 - accuracy: 0.9945 - precision: 0.9942 - recall: 0.9940 - val_loss: 0.0487 - val_accuracy: 0.9847 - val_precision: 0.9846 - val_recall: 0.9827 - lr: 4.6768e-10 - 152s/epoch - 1s/step\n"
     ]
    }
   ],
   "source": [
    "history1=model1.fit(training_datagen1,validation_data=validation_datagen1,epochs=epochs, callbacks=call_Back, verbose=2)"
   ]
  },
  {
   "cell_type": "code",
   "execution_count": 10,
   "id": "3b661427",
   "metadata": {},
   "outputs": [
    {
     "name": "stdout",
     "output_type": "stream",
     "text": [
      "dict_keys(['loss', 'accuracy', 'precision', 'recall', 'val_loss', 'val_accuracy', 'val_precision', 'val_recall', 'lr'])\n"
     ]
    },
    {
     "data": {
      "image/png": "[encoded data removed]",
      "text/plain": [
       "<Figure size 432x288 with 1 Axes>"
      ]
     },
     "metadata": {
      "needs_background": "light"
     },
     "output_type": "display_data"
    },
    {
     "data": {
      "image/png": "[encoded data removed]",
      "text/plain": [
       "<Figure size 432x288 with 1 Axes>"
      ]
     },
     "metadata": {
      "needs_background": "light"
     },
     "output_type": "display_data"
    }
   ],
   "source": [
    "print(history1.history.keys())\n",
    "plt.plot(history1.history['accuracy'],'r')\n",
    "plt.plot(history1.history['val_accuracy'],'b')\n",
    "plt.title('model accuracy')\n",
    "plt.ylabel('accuracy')\n",
    "plt.ylim(0,2)\n",
    "\n",
    "plt.xlabel('epoch')\n",
    "plt.legend(['train', 'Val'], loc='upper left')\n",
    "\n",
    "plt.show()\n",
    "plt.plot(history1.history['loss'],'r')\n",
    "plt.plot(history1.history['val_loss'],'b')\n",
    "plt.title('model loss')\n",
    "plt.ylabel('loss')\n",
    "plt.ylim(0,2)\n",
    "plt.xlabel('epoch')\n",
    "plt.legend(['train', 'Val'], loc='upper left')\n",
    "\n",
    "plt.show()\n",
    "\n",
    "\n"
   ]
  },
  {
   "cell_type": "code",
   "execution_count": 11,
   "id": "6c5eda22",
   "metadata": {},
   "outputs": [
    {
     "name": "stdout",
     "output_type": "stream",
     "text": [
      "(624,)\n",
      "(624,)\n"
     ]
    }
   ],
   "source": [
    "# Get predictions and Original labels\n",
    "import numpy as np \n",
    "predictions = np.array([])\n",
    "test_labels =  np.array([])\n",
    "for x, y in test_datagen1:\n",
    "    predictions = np.concatenate([predictions, np.argmax(model1.predict(x), axis = -1)])\n",
    "    test_labels = np.concatenate([test_labels, np.argmax(y.numpy(), axis=-1)])\n",
    "\n",
    "print(test_labels.shape)\n",
    "print(predictions.shape)\n"
   ]
  },
  {
   "cell_type": "code",
   "execution_count": 12,
   "id": "4f41f32a",
   "metadata": {},
   "outputs": [
    {
     "data": {
      "image/png": "[encoded data removed]",
      "text/plain": [
       "<Figure size 864x576 with 2 Axes>"
      ]
     },
     "metadata": {
      "needs_background": "light"
     },
     "output_type": "display_data"
    }
   ],
   "source": [
    "# Get the confusion matrix\n",
    "cm  = confusion_matrix(test_labels, predictions)\n",
    "f,ax = plt.subplots(figsize=(12, 8))\n",
    "sns.heatmap(cm, annot=True, linewidths=0.01, cmap=plt.cm.Reds, linecolor=\"gray\", fmt='.1f', ax=ax)\n",
    "plt.xticks(np.arange(0, 2, step=0.5), ['', 'Normal(0)', '', 'Pneumonia(1)'], fontsize=16)\n",
    "plt.yticks(np.arange(0, 2, step=0.5), ['', 'Normal(0)', '', 'Pneumonia(1)'], fontsize=16)\n",
    "plt.xlabel(\"Predicted Label\")\n",
    "plt.ylabel(\"True Label\")\n",
    "plt.title(\"Confusion Matrix\")\n",
    "plt.show()"
   ]
  },
  {
   "cell_type": "code",
   "execution_count": 13,
   "id": "168d88d4",
   "metadata": {},
   "outputs": [
    {
     "name": "stdout",
     "output_type": "stream",
     "text": [
      " The recall of model is: 0.9974358974358974\n",
      "The precision of the model is: 0.7582846003898636\n"
     ]
    }
   ],
   "source": [
    "recall = sklearn.metrics.recall_score(test_labels, predictions, pos_label=1)\n",
    "print(\" The recall of model is:\" ,recall)\n",
    "#Recall = TruePositives / (TruePositives + FalseNegatives)\n",
    "\n",
    "precision = sklearn.metrics.precision_score(test_labels, predictions, pos_label=1)\n",
    "print(\"The precision of the model is:\" ,precision)\n",
    "#precision = TruePositives/(TruePositives+FalsePositives)"
   ]
  },
  {
   "cell_type": "markdown",
   "id": "edd6fd4d",
   "metadata": {},
   "source": [
    "## Model 2"
   ]
  },
  {
   "cell_type": "code",
   "execution_count": 14,
   "id": "ad44baf2",
   "metadata": {},
   "outputs": [],
   "source": [
    "model_2 = ResNet50(weights= 'imagenet', include_top=False, input_shape= (180,180,3))\n",
    "\n",
    "\n",
    "for layers in model_2.layers:\n",
    "    layers.trainable = False\n",
    "\n",
    "i = 1\n",
    "for layer in model_2.layers:\n",
    "  if i==int(i/87):\n",
    "    layer.trainable = True\n",
    "  i+=1\n"
   ]
  },
  {
   "cell_type": "code",
   "execution_count": 15,
   "id": "d1baf428",
   "metadata": {},
   "outputs": [
    {
     "name": "stderr",
     "output_type": "stream",
     "text": [
      "C:\\Users\\vladi\\AppData\\Roaming\\Python\\Python39\\site-packages\\keras\\optimizer_v2\\adam.py:105: UserWarning: The `lr` argument is deprecated, use `learning_rate` instead.\n",
      "  super(Adam, self).__init__(name, **kwargs)\n"
     ]
    }
   ],
   "source": [
    "Mid_layer=model_2.get_layer('conv5_block3_1_relu')\n",
    "Mid_output = Mid_layer.output\n",
    "\n",
    "x=tf.keras.layers.Flatten()(Mid_output)\n",
    "x=tf.keras.layers.Dense(128,activation='relu')(x)\n",
    "x=tf.keras.layers.Dropout(0.2)(x)\n",
    "x=tf.keras.layers.Dense(64,activation='relu')(x)\n",
    "x=tf.keras.layers.Dropout(0.2)(x)\n",
    "x=tf.keras.layers.Dense(2,activation='sigmoid')(x)\n",
    "\n",
    "model2=tf.keras.Model(model_2.input,x)\n",
    "\n",
    "model2.compile(optimizer=Adam(lr=0.0001),\n",
    "              loss='binary_crossentropy',\n",
    "               metrics=['accuracy','Precision','Recall'])\n",
    "# model2.summary()"
   ]
  },
  {
   "cell_type": "code",
   "execution_count": 19,
   "id": "355b920a",
   "metadata": {},
   "outputs": [
    {
     "name": "stdout",
     "output_type": "stream",
     "text": [
      "\n",
      "Epoch 00001: LearningRateScheduler setting learning rate to 2.097151991620194e-05.\n",
      "Epoch 1/20\n",
      "131/131 - 199s - loss: 0.0285 - accuracy: 0.9928 - precision: 0.9923 - recall: 0.9931 - val_loss: 0.0524 - val_accuracy: 0.9847 - val_precision: 0.9828 - val_recall: 0.9847 - lr: 2.0972e-05 - 199s/epoch - 2s/step\n",
      "\n",
      "Epoch 00002: LearningRateScheduler setting learning rate to 1.6777215932961553e-05.\n",
      "Epoch 2/20\n",
      "131/131 - 199s - loss: 0.0238 - accuracy: 0.9942 - precision: 0.9938 - recall: 0.9940 - val_loss: 0.0481 - val_accuracy: 0.9837 - val_precision: 0.9828 - val_recall: 0.9856 - lr: 1.6777e-05 - 199s/epoch - 2s/step\n",
      "\n",
      "Epoch 00003: LearningRateScheduler setting learning rate to 1.0737418197095396e-05.\n",
      "Epoch 3/20\n",
      "131/131 - 199s - loss: 0.0218 - accuracy: 0.9959 - precision: 0.9947 - recall: 0.9952 - val_loss: 0.0471 - val_accuracy: 0.9856 - val_precision: 0.9828 - val_recall: 0.9866 - lr: 1.0737e-05 - 199s/epoch - 2s/step\n",
      "\n",
      "Epoch 00004: LearningRateScheduler setting learning rate to 5.497558042407037e-06.\n",
      "Epoch 4/20\n",
      "131/131 - 199s - loss: 0.0209 - accuracy: 0.9954 - precision: 0.9952 - recall: 0.9942 - val_loss: 0.0472 - val_accuracy: 0.9856 - val_precision: 0.9828 - val_recall: 0.9866 - lr: 5.4976e-06 - 199s/epoch - 2s/step\n",
      "\n",
      "Epoch 00005: LearningRateScheduler setting learning rate to 2.2517997771501545e-06.\n",
      "Epoch 5/20\n",
      "131/131 - 199s - loss: 0.0212 - accuracy: 0.9954 - precision: 0.9959 - recall: 0.9950 - val_loss: 0.0471 - val_accuracy: 0.9856 - val_precision: 0.9828 - val_recall: 0.9866 - lr: 2.2518e-06 - 199s/epoch - 2s/step\n",
      "\n",
      "Epoch 00006: LearningRateScheduler setting learning rate to 7.378697395324709e-07.\n",
      "Epoch 6/20\n",
      "131/131 - 198s - loss: 0.0191 - accuracy: 0.9969 - precision: 0.9962 - recall: 0.9959 - val_loss: 0.0471 - val_accuracy: 0.9856 - val_precision: 0.9828 - val_recall: 0.9866 - lr: 7.3787e-07 - 198s/epoch - 2s/step\n",
      "\n",
      "Epoch 00007: LearningRateScheduler setting learning rate to 1.9342812895774848e-07.\n",
      "Epoch 7/20\n",
      "131/131 - 199s - loss: 0.0186 - accuracy: 0.9974 - precision: 0.9966 - recall: 0.9964 - val_loss: 0.0471 - val_accuracy: 0.9856 - val_precision: 0.9828 - val_recall: 0.9866 - lr: 1.9343e-07 - 199s/epoch - 2s/step\n",
      "\n",
      "Epoch 00008: LearningRateScheduler setting learning rate to 4.056482017040254e-08.\n",
      "Epoch 8/20\n",
      "131/131 - 198s - loss: 0.0202 - accuracy: 0.9959 - precision: 0.9957 - recall: 0.9933 - val_loss: 0.0471 - val_accuracy: 0.9856 - val_precision: 0.9828 - val_recall: 0.9866 - lr: 4.0565e-08 - 198s/epoch - 2s/step\n",
      "\n",
      "Epoch 00009: LearningRateScheduler setting learning rate to 6.805647611618045e-09.\n",
      "Epoch 9/20\n",
      "131/131 - 198s - loss: 0.0200 - accuracy: 0.9954 - precision: 0.9947 - recall: 0.9964 - val_loss: 0.0471 - val_accuracy: 0.9856 - val_precision: 0.9828 - val_recall: 0.9866 - lr: 6.8056e-09 - 198s/epoch - 2s/step\n",
      "\n",
      "Epoch 00010: LearningRateScheduler setting learning rate to 9.134385585784917e-10.\n",
      "Epoch 10/20\n",
      "131/131 - 198s - loss: 0.0195 - accuracy: 0.9962 - precision: 0.9962 - recall: 0.9952 - val_loss: 0.0471 - val_accuracy: 0.9856 - val_precision: 0.9828 - val_recall: 0.9866 - lr: 9.1344e-10 - 198s/epoch - 2s/step\n",
      "\n",
      "Epoch 00011: LearningRateScheduler setting learning rate to 9.80797171592713e-11.\n",
      "Epoch 11/20\n",
      "131/131 - 199s - loss: 0.0208 - accuracy: 0.9952 - precision: 0.9947 - recall: 0.9940 - val_loss: 0.0471 - val_accuracy: 0.9856 - val_precision: 0.9828 - val_recall: 0.9866 - lr: 9.8080e-11 - 199s/epoch - 2s/step\n",
      "\n",
      "Epoch 00012: LearningRateScheduler setting learning rate to 8.424983620643621e-12.\n",
      "Epoch 12/20\n",
      "131/131 - 199s - loss: 0.0196 - accuracy: 0.9962 - precision: 0.9959 - recall: 0.9954 - val_loss: 0.0471 - val_accuracy: 0.9856 - val_precision: 0.9828 - val_recall: 0.9866 - lr: 8.4250e-12 - 199s/epoch - 2s/step\n"
     ]
    }
   ],
   "source": [
    "history2=model2.fit(training_datagen1,validation_data=validation_datagen1,epochs=epochs, callbacks=call_Back, verbose=2)"
   ]
  },
  {
   "cell_type": "code",
   "execution_count": 20,
   "id": "8353e19e",
   "metadata": {},
   "outputs": [
    {
     "name": "stdout",
     "output_type": "stream",
     "text": [
      "dict_keys(['loss', 'accuracy', 'precision', 'recall', 'val_loss', 'val_accuracy', 'val_precision', 'val_recall', 'lr'])\n"
     ]
    },
    {
     "data": {
      "image/png": "[encoded data removed]",
      "text/plain": [
       "<Figure size 432x288 with 1 Axes>"
      ]
     },
     "metadata": {
      "needs_background": "light"
     },
     "output_type": "display_data"
    },
    {
     "data": {
      "image/png": "[encoded data removed]",
      "text/plain": [
       "<Figure size 432x288 with 1 Axes>"
      ]
     },
     "metadata": {
      "needs_background": "light"
     },
     "output_type": "display_data"
    }
   ],
   "source": [
    "print(history2.history.keys())\n",
    "plt.plot(history2.history['accuracy'],'r')\n",
    "plt.plot(history2.history['val_accuracy'],'b')\n",
    "plt.title('model accuracy')\n",
    "plt.ylabel('accuracy')\n",
    "#plt.ylim(0,2)\n",
    "\n",
    "plt.xlabel('epoch')\n",
    "plt.legend(['train', 'Val'], loc='upper left')\n",
    "\n",
    "plt.show()\n",
    "plt.plot(history2.history['loss'],'r')\n",
    "plt.plot(history2.history['val_loss'],'b')\n",
    "plt.title('model loss')\n",
    "plt.ylabel('loss')\n",
    "#plt.ylim(0,2)\n",
    "plt.xlabel('epoch')\n",
    "plt.legend(['train', 'Val'], loc='upper left')\n",
    "\n",
    "plt.show()"
   ]
  },
  {
   "cell_type": "code",
   "execution_count": 21,
   "id": "9e2a4048",
   "metadata": {},
   "outputs": [
    {
     "name": "stdout",
     "output_type": "stream",
     "text": [
      "(624,)\n",
      "(624,)\n"
     ]
    },
    {
     "data": {
      "image/png": "[encoded data removed]",
      "text/plain": [
       "<Figure size 864x576 with 2 Axes>"
      ]
     },
     "metadata": {
      "needs_background": "light"
     },
     "output_type": "display_data"
    }
   ],
   "source": [
    "# Get predictions and Original labels\n",
    "import numpy as np \n",
    "predictions = np.array([])\n",
    "test_labels =  np.array([])\n",
    "for x, y in test_datagen1:\n",
    "    predictions = np.concatenate([predictions, np.argmax(model2.predict(x), axis = -1)])\n",
    "    test_labels = np.concatenate([test_labels, np.argmax(y.numpy(), axis=-1)])\n",
    "\n",
    "print(test_labels.shape)\n",
    "print(predictions.shape)\n",
    "\n",
    "\n",
    "# Get the confusion matrix\n",
    "cm  = confusion_matrix(test_labels, predictions)\n",
    "f,ax = plt.subplots(figsize=(12, 8))\n",
    "sns.heatmap(cm, annot=True, linewidths=0.01, cmap=plt.cm.Reds, linecolor=\"gray\", fmt='.1f', ax=ax)\n",
    "plt.xticks(np.arange(0, 2, step=0.5), ['', 'Normal(0)', '', 'Pneumonia(1)'], fontsize=16)\n",
    "plt.yticks(np.arange(0, 2, step=0.5), ['', 'Normal(0)', '', 'Pneumonia(1)'], fontsize=16)\n",
    "plt.xlabel(\"Predicted Label\")\n",
    "plt.ylabel(\"True Label\")\n",
    "plt.title(\"Confusion Matrix\")\n",
    "plt.show()\n",
    "\n"
   ]
  },
  {
   "cell_type": "code",
   "execution_count": 22,
   "id": "6ae29b93",
   "metadata": {},
   "outputs": [
    {
     "name": "stdout",
     "output_type": "stream",
     "text": [
      " The recall of model is: 0.9974358974358974\n",
      "The precision of the model is: 0.7553398058252427\n"
     ]
    }
   ],
   "source": [
    "recall = sklearn.metrics.recall_score(test_labels, predictions, pos_label=1)\n",
    "print(\" The recall of model is:\" ,recall)\n",
    "#Recall = TruePositives / (TruePositives + FalseNegatives)\n",
    "\n",
    "precision = sklearn.metrics.precision_score(test_labels, predictions, pos_label=1)\n",
    "print(\"The precision of the model is:\" ,precision)\n",
    "#precision = TruePositives/(TruePositives+FalsePositives)"
   ]
  },
  {
   "cell_type": "markdown",
   "id": "79e767ab",
   "metadata": {},
   "source": [
    "## Model 3 "
   ]
  },
  {
   "cell_type": "code",
   "execution_count": 23,
   "id": "fe7f27b2",
   "metadata": {},
   "outputs": [],
   "source": [
    "model_3 = ResNet50(weights= 'imagenet', include_top=False, input_shape= (180,180,3))\n",
    "\n",
    "\n",
    "for layers in model_3.layers:\n",
    "    layers.trainable = False\n",
    "\n",
    "i = 1\n",
    "for layer in model_3.layers:\n",
    "  if i==int(i/174): \n",
    "    layer.trainable = True\n",
    "  i+=1"
   ]
  },
  {
   "cell_type": "code",
   "execution_count": 24,
   "id": "33fa40ef",
   "metadata": {},
   "outputs": [
    {
     "name": "stderr",
     "output_type": "stream",
     "text": [
      "C:\\Users\\vladi\\AppData\\Roaming\\Python\\Python39\\site-packages\\keras\\optimizer_v2\\adam.py:105: UserWarning: The `lr` argument is deprecated, use `learning_rate` instead.\n",
      "  super(Adam, self).__init__(name, **kwargs)\n"
     ]
    }
   ],
   "source": [
    "last_layer=model_3.get_layer('conv5_block3_1_relu')\n",
    "last_output = last_layer.output\n",
    "\n",
    "x=tf.keras.layers.Flatten()(last_output)\n",
    "x=tf.keras.layers.Dense(128,activation='relu')(x)\n",
    "x=tf.keras.layers.Dropout(0.2)(x)\n",
    "x=tf.keras.layers.Dense(64,activation='relu')(x)\n",
    "x=tf.keras.layers.Dropout(0.2)(x)\n",
    "x=tf.keras.layers.Dense(2,activation='sigmoid')(x)\n",
    "\n",
    "model3=tf.keras.Model(model_3.input,x)\n",
    "\n",
    "model3.compile(optimizer=Adam(lr=0.0001),\n",
    "              loss='binary_crossentropy',\n",
    "               metrics=['accuracy','Precision','Recall'])"
   ]
  },
  {
   "cell_type": "code",
   "execution_count": 25,
   "id": "83238e6d",
   "metadata": {},
   "outputs": [
    {
     "name": "stdout",
     "output_type": "stream",
     "text": [
      "\n",
      "Epoch 00001: LearningRateScheduler setting learning rate to 9.999999747378752e-05.\n",
      "Epoch 1/20\n",
      "131/131 - 211s - loss: 0.1972 - accuracy: 0.9236 - precision: 0.9126 - recall: 0.9310 - val_loss: 0.0766 - val_accuracy: 0.9751 - val_precision: 0.9759 - val_recall: 0.9722 - lr: 1.0000e-04 - 211s/epoch - 2s/step\n",
      "\n",
      "Epoch 00002: LearningRateScheduler setting learning rate to 7.999999797903001e-05.\n",
      "Epoch 2/20\n",
      "131/131 - 164s - loss: 0.0674 - accuracy: 0.9782 - precision: 0.9780 - recall: 0.9782 - val_loss: 0.0575 - val_accuracy: 0.9808 - val_precision: 0.9827 - val_recall: 0.9799 - lr: 8.0000e-05 - 164s/epoch - 1s/step\n",
      "\n",
      "Epoch 00003: LearningRateScheduler setting learning rate to 5.119999870657922e-05.\n",
      "Epoch 3/20\n",
      "131/131 - 158s - loss: 0.0471 - accuracy: 0.9868 - precision: 0.9852 - recall: 0.9861 - val_loss: 0.0517 - val_accuracy: 0.9808 - val_precision: 0.9875 - val_recall: 0.9808 - lr: 5.1200e-05 - 158s/epoch - 1s/step\n",
      "\n",
      "Epoch 00004: LearningRateScheduler setting learning rate to 2.621439844369889e-05.\n",
      "Epoch 4/20\n",
      "131/131 - 158s - loss: 0.0342 - accuracy: 0.9907 - precision: 0.9914 - recall: 0.9887 - val_loss: 0.0534 - val_accuracy: 0.9837 - val_precision: 0.9837 - val_recall: 0.9827 - lr: 2.6214e-05 - 158s/epoch - 1s/step\n",
      "\n",
      "Epoch 00005: LearningRateScheduler setting learning rate to 1.0737417638301852e-05.\n",
      "Epoch 5/20\n",
      "131/131 - 195s - loss: 0.0299 - accuracy: 0.9942 - precision: 0.9935 - recall: 0.9928 - val_loss: 0.0499 - val_accuracy: 0.9818 - val_precision: 0.9846 - val_recall: 0.9808 - lr: 1.0737e-05 - 195s/epoch - 1s/step\n",
      "\n",
      "Epoch 00006: LearningRateScheduler setting learning rate to 3.518437147140504e-06.\n",
      "Epoch 6/20\n",
      "131/131 - 206s - loss: 0.0298 - accuracy: 0.9921 - precision: 0.9928 - recall: 0.9921 - val_loss: 0.0496 - val_accuracy: 0.9818 - val_precision: 0.9846 - val_recall: 0.9808 - lr: 3.5184e-06 - 206s/epoch - 2s/step\n",
      "\n",
      "Epoch 00007: LearningRateScheduler setting learning rate to 9.223371744155888e-07.\n",
      "Epoch 7/20\n",
      "131/131 - 204s - loss: 0.0294 - accuracy: 0.9916 - precision: 0.9911 - recall: 0.9919 - val_loss: 0.0497 - val_accuracy: 0.9818 - val_precision: 0.9855 - val_recall: 0.9808 - lr: 9.2234e-07 - 204s/epoch - 2s/step\n",
      "\n",
      "Epoch 00008: LearningRateScheduler setting learning rate to 1.9342812299728401e-07.\n",
      "Epoch 8/20\n",
      "131/131 - 158s - loss: 0.0284 - accuracy: 0.9911 - precision: 0.9914 - recall: 0.9907 - val_loss: 0.0498 - val_accuracy: 0.9818 - val_precision: 0.9846 - val_recall: 0.9808 - lr: 1.9343e-07 - 158s/epoch - 1s/step\n",
      "\n",
      "Epoch 00009: LearningRateScheduler setting learning rate to 3.245185375213625e-08.\n",
      "Epoch 9/20\n",
      "131/131 - 158s - loss: 0.0286 - accuracy: 0.9928 - precision: 0.9928 - recall: 0.9923 - val_loss: 0.0498 - val_accuracy: 0.9818 - val_precision: 0.9846 - val_recall: 0.9808 - lr: 3.2452e-08 - 158s/epoch - 1s/step\n",
      "\n",
      "Epoch 00010: LearningRateScheduler setting learning rate to 4.355614185333254e-09.\n",
      "Epoch 10/20\n",
      "131/131 - 158s - loss: 0.0279 - accuracy: 0.9942 - precision: 0.9935 - recall: 0.9926 - val_loss: 0.0498 - val_accuracy: 0.9818 - val_precision: 0.9846 - val_recall: 0.9808 - lr: 4.3556e-09 - 158s/epoch - 1s/step\n",
      "\n",
      "Epoch 00011: LearningRateScheduler setting learning rate to 4.676805019378665e-10.\n",
      "Epoch 11/20\n",
      "131/131 - 206s - loss: 0.0292 - accuracy: 0.9919 - precision: 0.9914 - recall: 0.9916 - val_loss: 0.0498 - val_accuracy: 0.9818 - val_precision: 0.9846 - val_recall: 0.9808 - lr: 4.6768e-10 - 206s/epoch - 2s/step\n"
     ]
    }
   ],
   "source": [
    "history3=model3.fit(training_datagen1,validation_data=validation_datagen1,epochs=epochs, callbacks=call_Back, verbose=2)"
   ]
  },
  {
   "cell_type": "code",
   "execution_count": 26,
   "id": "fa000491",
   "metadata": {},
   "outputs": [
    {
     "name": "stdout",
     "output_type": "stream",
     "text": [
      "dict_keys(['loss', 'accuracy', 'precision', 'recall', 'val_loss', 'val_accuracy', 'val_precision', 'val_recall', 'lr'])\n"
     ]
    },
    {
     "data": {
      "image/png": "[encoded data removed]",
      "text/plain": [
       "<Figure size 432x288 with 1 Axes>"
      ]
     },
     "metadata": {
      "needs_background": "light"
     },
     "output_type": "display_data"
    },
    {
     "data": {
      "image/png": "[encoded data removed]",
      "text/plain": [
       "<Figure size 432x288 with 1 Axes>"
      ]
     },
     "metadata": {
      "needs_background": "light"
     },
     "output_type": "display_data"
    }
   ],
   "source": [
    "print(history3.history.keys())\n",
    "plt.plot(history3.history['accuracy'],'r')\n",
    "plt.plot(history3.history['val_accuracy'],'b')\n",
    "plt.title('model accuracy')\n",
    "plt.ylabel('accuracy')\n",
    "plt.ylim(0,2)\n",
    "\n",
    "plt.xlabel('epoch')\n",
    "plt.legend(['train', 'Val'], loc='upper left')\n",
    "\n",
    "plt.show()\n",
    "# summarize history for loss\n",
    "plt.plot(history3.history['loss'],'r')\n",
    "plt.plot(history3.history['val_loss'],'b')\n",
    "plt.title('model loss')\n",
    "plt.ylabel('loss')\n",
    "plt.ylim(0,2)\n",
    "plt.xlabel('epoch')\n",
    "plt.legend(['train', 'Val'], loc='upper left')\n",
    "\n",
    "plt.show()"
   ]
  },
  {
   "cell_type": "code",
   "execution_count": 27,
   "id": "37f67c5c",
   "metadata": {},
   "outputs": [
    {
     "name": "stdout",
     "output_type": "stream",
     "text": [
      "(624,)\n",
      "(624,)\n"
     ]
    },
    {
     "data": {
      "image/png": "[encoded data removed]",
      "text/plain": [
       "<Figure size 864x576 with 2 Axes>"
      ]
     },
     "metadata": {
      "needs_background": "light"
     },
     "output_type": "display_data"
    }
   ],
   "source": [
    "# Get predictions and Original labels\n",
    "import numpy as np \n",
    "predictions = np.array([])\n",
    "test_labels =  np.array([])\n",
    "for x, y in test_datagen1:\n",
    "    predictions = np.concatenate([predictions, np.argmax(model3.predict(x), axis = -1)])\n",
    "    test_labels = np.concatenate([test_labels, np.argmax(y.numpy(), axis=-1)])\n",
    "\n",
    "print(test_labels.shape)\n",
    "print(predictions.shape)\n",
    "\n",
    "\n",
    "# Get the confusion matrix\n",
    "cm  = confusion_matrix(test_labels, predictions)\n",
    "f,ax = plt.subplots(figsize=(12, 8))\n",
    "sns.heatmap(cm, annot=True, linewidths=0.01, cmap=plt.cm.Reds, linecolor=\"gray\", fmt='.1f', ax=ax)\n",
    "plt.xticks(np.arange(0, 2, step=0.5), ['', 'Normal(0)', '', 'Pneumonia(1)'], fontsize=16)\n",
    "plt.yticks(np.arange(0, 2, step=0.5), ['', 'Normal(0)', '', 'Pneumonia(1)'], fontsize=16)\n",
    "plt.xlabel(\"Predicted Label\")\n",
    "plt.ylabel(\"True Label\")\n",
    "plt.title(\"Confusion Matrix\")\n",
    "plt.show()\n",
    "\n"
   ]
  },
  {
   "cell_type": "code",
   "execution_count": 29,
   "id": "8fb71ae9",
   "metadata": {},
   "outputs": [
    {
     "name": "stdout",
     "output_type": "stream",
     "text": [
      " The recall of model is: 0.9974358974358974\n",
      "The precision of the model is: 0.765748031496063\n"
     ]
    }
   ],
   "source": [
    "recall = sklearn.metrics.recall_score(test_labels, predictions, pos_label=1)\n",
    "print(\" The recall of model is:\" ,recall)\n",
    "#Recall = TruePositives / (TruePositives + FalseNegatives)\n",
    "\n",
    "precision = sklearn.metrics.precision_score(test_labels, predictions, pos_label=1)\n",
    "print(\"The precision of the model is:\" ,precision)\n",
    "#precision = TruePositives/(TruePositives+FalsePositives)"
   ]
  },
  {
   "cell_type": "markdown",
   "id": "009c3d9f",
   "metadata": {},
   "source": [
    "## model  4 "
   ]
  },
  {
   "cell_type": "code",
   "execution_count": 30,
   "id": "002f48ba",
   "metadata": {},
   "outputs": [],
   "source": [
    "model_4 = ResNet50(weights= 'imagenet', include_top=False, input_shape= (180,180,3))\n",
    "\n",
    "for layers in model_4.layers:\n",
    "    layers.trainable = False\n",
    "\n",
    "for layer in model_4.layers:\n",
    "  if i==int(i/87):\n",
    "    layer.trainable = True\n",
    "  i+=1"
   ]
  },
  {
   "cell_type": "code",
   "execution_count": 31,
   "id": "4fb9d740",
   "metadata": {},
   "outputs": [
    {
     "name": "stderr",
     "output_type": "stream",
     "text": [
      "C:\\Users\\vladi\\AppData\\Roaming\\Python\\Python39\\site-packages\\keras\\optimizer_v2\\adam.py:105: UserWarning: The `lr` argument is deprecated, use `learning_rate` instead.\n",
      "  super(Adam, self).__init__(name, **kwargs)\n"
     ]
    }
   ],
   "source": [
    "last_layer=model_4.get_layer('conv5_block3_1_relu')\n",
    "last_output = last_layer.output\n",
    "\n",
    "x=tf.keras.layers.Flatten()(last_output)\n",
    "x=tf.keras.layers.Dense(128,activation='relu')(x)\n",
    "x=tf.keras.layers.Dropout(0.2)(x)\n",
    "x=tf.keras.layers.Dense(64,activation='relu')(x)\n",
    "x=tf.keras.layers.Dropout(0.2)(x)\n",
    "x=tf.keras.layers.Dense(2,activation='sigmoid')(x)\n",
    "\n",
    "model4=tf.keras.Model(model_4.input,x)\n",
    "\n",
    "model4.compile(optimizer=Adam(lr=0.0001),\n",
    "              loss='binary_crossentropy',\n",
    "               metrics=['accuracy','Precision','Recall'])"
   ]
  },
  {
   "cell_type": "code",
   "execution_count": 32,
   "id": "3d2f4099",
   "metadata": {},
   "outputs": [
    {
     "name": "stdout",
     "output_type": "stream",
     "text": [
      "\n",
      "Epoch 00001: LearningRateScheduler setting learning rate to 9.999999747378752e-05.\n",
      "Epoch 1/20\n",
      "131/131 - 218s - loss: 0.0817 - accuracy: 0.9307 - precision: 0.9191 - recall: 0.9260 - val_loss: 0.0750 - val_accuracy: 0.9741 - val_precision: 0.9722 - val_recall: 0.9732 - lr: 1.0000e-04 - 218s/epoch - 2s/step\n",
      "\n",
      "Epoch 00002: LearningRateScheduler setting learning rate to 7.999999797903001e-05.\n",
      "Epoch 2/20\n",
      "131/131 - 213s - loss: 0.0290 - accuracy: 0.9736 - precision: 0.9727 - recall: 0.9727 - val_loss: 0.0659 - val_accuracy: 0.9732 - val_precision: 0.9732 - val_recall: 0.9732 - lr: 8.0000e-05 - 213s/epoch - 2s/step\n",
      "\n",
      "Epoch 00003: LearningRateScheduler setting learning rate to 5.119999870657922e-05.\n",
      "Epoch 3/20\n",
      "131/131 - 188s - loss: 0.0190 - accuracy: 0.9827 - precision: 0.9832 - recall: 0.9820 - val_loss: 0.0537 - val_accuracy: 0.9818 - val_precision: 0.9827 - val_recall: 0.9818 - lr: 5.1200e-05 - 188s/epoch - 1s/step\n",
      "\n",
      "Epoch 00004: LearningRateScheduler setting learning rate to 2.621439844369889e-05.\n",
      "Epoch 4/20\n",
      "131/131 - 173s - loss: 0.0137 - accuracy: 0.9892 - precision: 0.9880 - recall: 0.9887 - val_loss: 0.0520 - val_accuracy: 0.9847 - val_precision: 0.9837 - val_recall: 0.9837 - lr: 2.6214e-05 - 173s/epoch - 1s/step\n",
      "\n",
      "Epoch 00005: LearningRateScheduler setting learning rate to 1.0737417638301852e-05.\n",
      "Epoch 5/20\n",
      "131/131 - 170s - loss: 0.0125 - accuracy: 0.9911 - precision: 0.9895 - recall: 0.9897 - val_loss: 0.0538 - val_accuracy: 0.9779 - val_precision: 0.9771 - val_recall: 0.9799 - lr: 1.0737e-05 - 170s/epoch - 1s/step\n",
      "\n",
      "Epoch 00006: LearningRateScheduler setting learning rate to 3.518437147140504e-06.\n",
      "Epoch 6/20\n",
      "131/131 - 169s - loss: 0.0117 - accuracy: 0.9902 - precision: 0.9899 - recall: 0.9897 - val_loss: 0.0543 - val_accuracy: 0.9770 - val_precision: 0.9770 - val_recall: 0.9779 - lr: 3.5184e-06 - 169s/epoch - 1s/step\n",
      "\n",
      "Epoch 00007: LearningRateScheduler setting learning rate to 9.223371744155888e-07.\n",
      "Epoch 7/20\n",
      "131/131 - 180s - loss: 0.0115 - accuracy: 0.9895 - precision: 0.9892 - recall: 0.9907 - val_loss: 0.0538 - val_accuracy: 0.9779 - val_precision: 0.9761 - val_recall: 0.9789 - lr: 9.2234e-07 - 180s/epoch - 1s/step\n",
      "\n",
      "Epoch 00008: LearningRateScheduler setting learning rate to 1.9342812299728401e-07.\n",
      "Epoch 8/20\n",
      "131/131 - 164s - loss: 0.0122 - accuracy: 0.9909 - precision: 0.9899 - recall: 0.9895 - val_loss: 0.0537 - val_accuracy: 0.9779 - val_precision: 0.9761 - val_recall: 0.9789 - lr: 1.9343e-07 - 164s/epoch - 1s/step\n",
      "\n",
      "Epoch 00009: LearningRateScheduler setting learning rate to 3.245185375213625e-08.\n",
      "Epoch 9/20\n",
      "131/131 - 189s - loss: 0.0121 - accuracy: 0.9887 - precision: 0.9880 - recall: 0.9883 - val_loss: 0.0537 - val_accuracy: 0.9779 - val_precision: 0.9761 - val_recall: 0.9789 - lr: 3.2452e-08 - 189s/epoch - 1s/step\n"
     ]
    }
   ],
   "source": [
    "class_weight = {0: 0.75,\n",
    "                1: 0.25}\n",
    "\n",
    "history4=model4.fit(training_datagen1,validation_data=validation_datagen1,epochs=epochs, callbacks=call_Back, verbose=2,class_weight=class_weight)"
   ]
  },
  {
   "cell_type": "code",
   "execution_count": 33,
   "id": "cdffaef3",
   "metadata": {},
   "outputs": [
    {
     "name": "stdout",
     "output_type": "stream",
     "text": [
      "dict_keys(['loss', 'accuracy', 'precision', 'recall', 'val_loss', 'val_accuracy', 'val_precision', 'val_recall', 'lr'])\n"
     ]
    },
    {
     "data": {
      "image/png": "[encoded data removed]",
      "text/plain": [
       "<Figure size 432x288 with 1 Axes>"
      ]
     },
     "metadata": {
      "needs_background": "light"
     },
     "output_type": "display_data"
    },
    {
     "data": {
      "image/png": "[encoded data removed]",
      "text/plain": [
       "<Figure size 432x288 with 1 Axes>"
      ]
     },
     "metadata": {
      "needs_background": "light"
     },
     "output_type": "display_data"
    }
   ],
   "source": [
    "print(history4.history.keys())\n",
    "plt.plot(history4.history['accuracy'],'r')\n",
    "plt.plot(history4.history['val_accuracy'],'b')\n",
    "plt.title('model accuracy')\n",
    "plt.ylabel('accuracy')\n",
    "plt.ylim(0,2)\n",
    "\n",
    "plt.xlabel('epoch')\n",
    "plt.legend(['train', 'Val'], loc='upper left')\n",
    "\n",
    "plt.show()\n",
    "# summarize history for loss\n",
    "plt.plot(history4.history['loss'],'r')\n",
    "plt.plot(history4.history['val_loss'],'b')\n",
    "plt.title('model loss')\n",
    "plt.ylabel('loss')\n",
    "plt.ylim(0,2)\n",
    "plt.xlabel('epoch')\n",
    "plt.legend(['train', 'Val'], loc='upper left')\n",
    "\n",
    "plt.show()"
   ]
  },
  {
   "cell_type": "code",
   "execution_count": 34,
   "id": "fba27897",
   "metadata": {},
   "outputs": [
    {
     "name": "stdout",
     "output_type": "stream",
     "text": [
      "(624,)\n",
      "(624,)\n"
     ]
    },
    {
     "data": {
      "image/png": "[encoded data removed]",
      "text/plain": [
       "<Figure size 864x576 with 2 Axes>"
      ]
     },
     "metadata": {
      "needs_background": "light"
     },
     "output_type": "display_data"
    }
   ],
   "source": [
    "# Get predictions and Original labels\n",
    "import numpy as np \n",
    "predictions = np.array([])\n",
    "test_labels =  np.array([])\n",
    "for x, y in test_datagen1:\n",
    "    predictions = np.concatenate([predictions, np.argmax(model4.predict(x), axis = -1)])\n",
    "    test_labels = np.concatenate([test_labels, np.argmax(y.numpy(), axis=-1)])\n",
    "\n",
    "print(test_labels.shape)\n",
    "print(predictions.shape)\n",
    "\n",
    "\n",
    "# Get the confusion matrix\n",
    "cm  = confusion_matrix(test_labels, predictions)\n",
    "f,ax = plt.subplots(figsize=(12, 8))\n",
    "sns.heatmap(cm, annot=True, linewidths=0.01, cmap=plt.cm.Reds, linecolor=\"gray\", fmt='.1f', ax=ax)\n",
    "plt.xticks(np.arange(0, 2, step=0.5), ['', 'Normal(0)', '', 'Pneumonia(1)'], fontsize=16)\n",
    "plt.yticks(np.arange(0, 2, step=0.5), ['', 'Normal(0)', '', 'Pneumonia(1)'], fontsize=16)\n",
    "plt.xlabel(\"Predicted Label\")\n",
    "plt.ylabel(\"True Label\")\n",
    "plt.title(\"Confusion Matrix\")\n",
    "plt.show()\n",
    "\n"
   ]
  },
  {
   "cell_type": "code",
   "execution_count": 35,
   "id": "08ebb060",
   "metadata": {},
   "outputs": [
    {
     "name": "stdout",
     "output_type": "stream",
     "text": [
      " The recall of model is: 0.9974358974358974\n",
      "The precision of the model is: 0.7627450980392156\n"
     ]
    }
   ],
   "source": [
    "recall = sklearn.metrics.recall_score(test_labels, predictions, pos_label=1)\n",
    "print(\" The recall of model is:\" ,recall)\n",
    "#Recall = TruePositives / (TruePositives + FalseNegatives)\n",
    "\n",
    "precision = sklearn.metrics.precision_score(test_labels, predictions, pos_label=1)\n",
    "print(\"The precision of the model is:\" ,precision)\n",
    "#precision = TruePositives/(TruePositives+FalsePositives)"
   ]
  },
  {
   "cell_type": "markdown",
   "id": "42cfacf4",
   "metadata": {},
   "source": [
    "## Model 5"
   ]
  },
  {
   "cell_type": "code",
   "execution_count": 36,
   "id": "10319687",
   "metadata": {},
   "outputs": [],
   "source": [
    "model_5 = ResNet50(weights= 'imagenet', include_top=False, input_shape= (180,180,3))\n",
    "\n",
    "for layers in model_5.layers:\n",
    "    layers.trainable = False\n",
    "\n",
    "\n",
    "i = 1\n",
    "for layer in model_5.layers:\n",
    "  if i==int(i/87):\n",
    "    layer.trainable = True\n",
    "  i+=1"
   ]
  },
  {
   "cell_type": "code",
   "execution_count": 37,
   "id": "4585bb12",
   "metadata": {},
   "outputs": [
    {
     "name": "stderr",
     "output_type": "stream",
     "text": [
      "C:\\Users\\vladi\\AppData\\Roaming\\Python\\Python39\\site-packages\\keras\\optimizer_v2\\adam.py:105: UserWarning: The `lr` argument is deprecated, use `learning_rate` instead.\n",
      "  super(Adam, self).__init__(name, **kwargs)\n"
     ]
    }
   ],
   "source": [
    "last_layer=model_5.get_layer('conv5_block3_1_relu')\n",
    "last_output = last_layer.output\n",
    "\n",
    "x=tf.keras.layers.Flatten()(last_output)\n",
    "x=tf.keras.layers.Dense(128,activation='relu')(x)\n",
    "x=tf.keras.layers.Dropout(0.2)(x)\n",
    "x=tf.keras.layers.Dense(64,activation='relu')(x)\n",
    "x=tf.keras.layers.Dropout(0.2)(x)\n",
    "x=tf.keras.layers.Dense(2,activation='sigmoid')(x)\n",
    "\n",
    "model5=tf.keras.Model(model_5.input,x)\n",
    "\n",
    "model5.compile(optimizer=Adam(lr=0.0001),\n",
    "              loss='binary_crossentropy',\n",
    "               metrics=['accuracy','Precision','Recall'])"
   ]
  },
  {
   "cell_type": "code",
   "execution_count": 38,
   "id": "22a2908a",
   "metadata": {},
   "outputs": [
    {
     "name": "stdout",
     "output_type": "stream",
     "text": [
      "\n",
      "Epoch 00001: LearningRateScheduler setting learning rate to 9.999999747378752e-05.\n",
      "Epoch 1/20\n",
      "131/131 - 178s - loss: 0.1249 - accuracy: 0.8543 - precision: 0.8486 - recall: 0.8517 - val_loss: 0.1455 - val_accuracy: 0.9396 - val_precision: 0.9415 - val_recall: 0.9406 - lr: 1.0000e-04 - 178s/epoch - 1s/step\n",
      "\n",
      "Epoch 00002: LearningRateScheduler setting learning rate to 7.999999797903001e-05.\n",
      "Epoch 2/20\n",
      "131/131 - 165s - loss: 0.0395 - accuracy: 0.9648 - precision: 0.9626 - recall: 0.9612 - val_loss: 0.0888 - val_accuracy: 0.9732 - val_precision: 0.9732 - val_recall: 0.9741 - lr: 8.0000e-05 - 165s/epoch - 1s/step\n",
      "\n",
      "Epoch 00003: LearningRateScheduler setting learning rate to 5.119999870657922e-05.\n",
      "Epoch 3/20\n",
      "131/131 - 161s - loss: 0.0287 - accuracy: 0.9753 - precision: 0.9744 - recall: 0.9744 - val_loss: 0.0820 - val_accuracy: 0.9760 - val_precision: 0.9741 - val_recall: 0.9732 - lr: 5.1200e-05 - 161s/epoch - 1s/step\n",
      "\n",
      "Epoch 00004: LearningRateScheduler setting learning rate to 2.621439844369889e-05.\n",
      "Epoch 4/20\n",
      "131/131 - 167s - loss: 0.0237 - accuracy: 0.9806 - precision: 0.9787 - recall: 0.9792 - val_loss: 0.0815 - val_accuracy: 0.9751 - val_precision: 0.9732 - val_recall: 0.9760 - lr: 2.6214e-05 - 167s/epoch - 1s/step\n",
      "\n",
      "Epoch 00005: LearningRateScheduler setting learning rate to 1.0737417638301852e-05.\n",
      "Epoch 5/20\n",
      "131/131 - 165s - loss: 0.0207 - accuracy: 0.9818 - precision: 0.9818 - recall: 0.9808 - val_loss: 0.0728 - val_accuracy: 0.9799 - val_precision: 0.9789 - val_recall: 0.9799 - lr: 1.0737e-05 - 165s/epoch - 1s/step\n",
      "\n",
      "Epoch 00006: LearningRateScheduler setting learning rate to 3.518437147140504e-06.\n",
      "Epoch 6/20\n",
      "131/131 - 162s - loss: 0.0209 - accuracy: 0.9832 - precision: 0.9827 - recall: 0.9815 - val_loss: 0.0707 - val_accuracy: 0.9799 - val_precision: 0.9799 - val_recall: 0.9799 - lr: 3.5184e-06 - 162s/epoch - 1s/step\n",
      "\n",
      "Epoch 00007: LearningRateScheduler setting learning rate to 9.223371744155888e-07.\n",
      "Epoch 7/20\n",
      "131/131 - 164s - loss: 0.0195 - accuracy: 0.9854 - precision: 0.9828 - recall: 0.9849 - val_loss: 0.0704 - val_accuracy: 0.9799 - val_precision: 0.9799 - val_recall: 0.9799 - lr: 9.2234e-07 - 164s/epoch - 1s/step\n",
      "\n",
      "Epoch 00008: LearningRateScheduler setting learning rate to 1.9342812299728401e-07.\n",
      "Epoch 8/20\n",
      "131/131 - 176s - loss: 0.0191 - accuracy: 0.9854 - precision: 0.9851 - recall: 0.9832 - val_loss: 0.0702 - val_accuracy: 0.9799 - val_precision: 0.9799 - val_recall: 0.9808 - lr: 1.9343e-07 - 176s/epoch - 1s/step\n",
      "\n",
      "Epoch 00009: LearningRateScheduler setting learning rate to 3.245185375213625e-08.\n",
      "Epoch 9/20\n",
      "131/131 - 162s - loss: 0.0196 - accuracy: 0.9861 - precision: 0.9842 - recall: 0.9849 - val_loss: 0.0702 - val_accuracy: 0.9799 - val_precision: 0.9799 - val_recall: 0.9808 - lr: 3.2452e-08 - 162s/epoch - 1s/step\n",
      "\n",
      "Epoch 00010: LearningRateScheduler setting learning rate to 4.355614185333254e-09.\n",
      "Epoch 10/20\n",
      "131/131 - 162s - loss: 0.0200 - accuracy: 0.9851 - precision: 0.9839 - recall: 0.9823 - val_loss: 0.0702 - val_accuracy: 0.9799 - val_precision: 0.9799 - val_recall: 0.9808 - lr: 4.3556e-09 - 162s/epoch - 1s/step\n",
      "\n",
      "Epoch 00011: LearningRateScheduler setting learning rate to 4.676805019378665e-10.\n",
      "Epoch 11/20\n",
      "131/131 - 162s - loss: 0.0191 - accuracy: 0.9847 - precision: 0.9863 - recall: 0.9842 - val_loss: 0.0702 - val_accuracy: 0.9799 - val_precision: 0.9799 - val_recall: 0.9808 - lr: 4.6768e-10 - 162s/epoch - 1s/step\n",
      "\n",
      "Epoch 00012: LearningRateScheduler setting learning rate to 4.017344951629641e-11.\n",
      "Epoch 12/20\n",
      "131/131 - 165s - loss: 0.0200 - accuracy: 0.9861 - precision: 0.9847 - recall: 0.9842 - val_loss: 0.0702 - val_accuracy: 0.9799 - val_precision: 0.9799 - val_recall: 0.9808 - lr: 4.0173e-11 - 165s/epoch - 1s/step\n",
      "\n",
      "Epoch 00013: LearningRateScheduler setting learning rate to 2.7606983184814468e-12.\n",
      "Epoch 13/20\n",
      "131/131 - 165s - loss: 0.0196 - accuracy: 0.9854 - precision: 0.9858 - recall: 0.9839 - val_loss: 0.0702 - val_accuracy: 0.9799 - val_precision: 0.9799 - val_recall: 0.9808 - lr: 2.7607e-12 - 165s/epoch - 1s/step\n",
      "\n",
      "Epoch 00014: LearningRateScheduler setting learning rate to 1.517709970474244e-13.\n",
      "Epoch 14/20\n",
      "131/131 - 163s - loss: 0.0197 - accuracy: 0.9873 - precision: 0.9861 - recall: 0.9837 - val_loss: 0.0702 - val_accuracy: 0.9799 - val_precision: 0.9799 - val_recall: 0.9808 - lr: 1.5177e-13 - 163s/epoch - 1s/step\n",
      "\n",
      "Epoch 00015: LearningRateScheduler setting learning rate to 6.6749590635299735e-15.\n",
      "Epoch 15/20\n",
      "131/131 - 161s - loss: 0.0201 - accuracy: 0.9849 - precision: 0.9844 - recall: 0.9837 - val_loss: 0.0702 - val_accuracy: 0.9799 - val_precision: 0.9799 - val_recall: 0.9808 - lr: 6.6750e-15 - 161s/epoch - 1s/step\n"
     ]
    }
   ],
   "source": [
    "class_weight = {0: 0.25,\n",
    "                1: 0.75}\n",
    "\n",
    "history5=model5.fit(training_datagen1,validation_data=validation_datagen1,epochs=epochs, callbacks=call_Back, verbose=2,class_weight=class_weight)"
   ]
  },
  {
   "cell_type": "code",
   "execution_count": 39,
   "id": "b0243db4",
   "metadata": {},
   "outputs": [
    {
     "name": "stdout",
     "output_type": "stream",
     "text": [
      "dict_keys(['loss', 'accuracy', 'precision', 'recall', 'val_loss', 'val_accuracy', 'val_precision', 'val_recall', 'lr'])\n"
     ]
    },
    {
     "data": {
      "image/png": "[encoded data removed]",
      "text/plain": [
       "<Figure size 432x288 with 1 Axes>"
      ]
     },
     "metadata": {
      "needs_background": "light"
     },
     "output_type": "display_data"
    },
    {
     "data": {
      "image/png": "[encoded data removed]",
      "text/plain": [
       "<Figure size 432x288 with 1 Axes>"
      ]
     },
     "metadata": {
      "needs_background": "light"
     },
     "output_type": "display_data"
    }
   ],
   "source": [
    "print(history5.history.keys())\n",
    "plt.plot(history5.history['accuracy'],'r')\n",
    "plt.plot(history5.history['val_accuracy'],'b')\n",
    "plt.title('model accuracy')\n",
    "plt.ylabel('accuracy')\n",
    "plt.ylim(0,2)\n",
    "\n",
    "plt.xlabel('epoch')\n",
    "plt.legend(['train', 'Val'], loc='upper left')\n",
    "\n",
    "plt.show()\n",
    "# summarize history for loss\n",
    "plt.plot(history5.history['loss'],'r')\n",
    "plt.plot(history5.history['val_loss'],'b')\n",
    "plt.title('model loss')\n",
    "plt.ylabel('loss')\n",
    "plt.ylim(0,2)\n",
    "plt.xlabel('epoch')\n",
    "plt.legend(['train', 'Val'], loc='upper left')\n",
    "\n",
    "plt.show()"
   ]
  },
  {
   "cell_type": "code",
   "execution_count": 42,
   "id": "1f88848e",
   "metadata": {},
   "outputs": [
    {
     "name": "stdout",
     "output_type": "stream",
     "text": [
      "(624,)\n",
      "(624,)\n"
     ]
    },
    {
     "data": {
      "image/png": "[encoded data removed]",
      "text/plain": [
       "<Figure size 864x576 with 2 Axes>"
      ]
     },
     "metadata": {
      "needs_background": "light"
     },
     "output_type": "display_data"
    }
   ],
   "source": [
    "# Get predictions and Original labels\n",
    "import numpy as np \n",
    "predictions = np.array([])\n",
    "test_labels =  np.array([])\n",
    "for x, y in test_datagen1:\n",
    "    predictions = np.concatenate([predictions, np.argmax(model5.predict(x), axis = -1)])\n",
    "    test_labels = np.concatenate([test_labels, np.argmax(y.numpy(), axis=-1)])\n",
    "\n",
    "print(test_labels.shape)\n",
    "print(predictions.shape)\n",
    "\n",
    "\n",
    "# Get the confusion matrix\n",
    "cm  = confusion_matrix(test_labels, predictions)\n",
    "f,ax = plt.subplots(figsize=(12, 8))\n",
    "sns.heatmap(cm, annot=True, linewidths=0.01, cmap=plt.cm.Reds, linecolor=\"gray\", fmt='.1f', ax=ax)\n",
    "plt.xticks(np.arange(0, 2, step=0.5), ['', 'Normal(0)', '', 'Pneumonia(1)'], fontsize=16)\n",
    "plt.yticks(np.arange(0, 2, step=0.5), ['', 'Normal(0)', '', 'Pneumonia(1)'], fontsize=16)\n",
    "plt.xlabel(\"Predicted Label\")\n",
    "plt.ylabel(\"True Label\")\n",
    "plt.title(\"Confusion Matrix\")\n",
    "plt.show()\n",
    "\n"
   ]
  },
  {
   "cell_type": "code",
   "execution_count": 41,
   "id": "019182ac",
   "metadata": {},
   "outputs": [
    {
     "name": "stdout",
     "output_type": "stream",
     "text": [
      " The recall of model is: 1.0\n",
      "The precision of the model is: 0.7142857142857143\n"
     ]
    }
   ],
   "source": [
    "recall = sklearn.metrics.recall_score(test_labels, predictions, pos_label=1)\n",
    "print(\" The recall of model is:\" ,recall)\n",
    "#Recall = TruePositives / (TruePositives + FalseNegatives)\n",
    "\n",
    "precision = sklearn.metrics.precision_score(test_labels, predictions, pos_label=1)\n",
    "print(\"The precision of the model is:\" ,precision)\n",
    "#precision = TruePositives/(TruePositives+FalsePositives)"
   ]
  }
 ],
 "metadata": {
  "celltoolbar": "Raw Cell Format",
  "kernelspec": {
   "display_name": "Python 3",
   "language": "python",
   "name": "python3"
  },
  "language_info": {
   "codemirror_mode": {
    "name": "ipython",
    "version": 3
   },
   "file_extension": ".py",
   "mimetype": "text/x-python",
   "name": "python",
   "nbconvert_exporter": "python",
   "pygments_lexer": "ipython3",
   "version": "3.9.7"
  }
 },
 "nbformat": 4,
 "nbformat_minor": 5
}

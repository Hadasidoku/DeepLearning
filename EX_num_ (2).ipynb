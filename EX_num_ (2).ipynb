{
 "cells": [
  {
   "cell_type": "code",
   "execution_count": 1,
   "id": "45101032",
   "metadata": {},
   "outputs": [
    {
     "name": "stdout",
     "output_type": "stream",
     "text": [
      "Requirement already satisfied: tensorflow in c:\\users\\benez\\anaconda3\\lib\\site-packages (2.7.0)\n",
      "Requirement already satisfied: wheel<1.0,>=0.32.0 in c:\\users\\benez\\anaconda3\\lib\\site-packages (from tensorflow) (0.36.2)\n",
      "Requirement already satisfied: opt-einsum>=2.3.2 in c:\\users\\benez\\anaconda3\\lib\\site-packages (from tensorflow) (3.3.0)\n",
      "Requirement already satisfied: h5py>=2.9.0 in c:\\users\\benez\\anaconda3\\lib\\site-packages (from tensorflow) (2.10.0)\n",
      "Requirement already satisfied: termcolor>=1.1.0 in c:\\users\\benez\\anaconda3\\lib\\site-packages (from tensorflow) (1.1.0)\n",
      "Requirement already satisfied: typing-extensions>=3.6.6 in c:\\users\\benez\\anaconda3\\lib\\site-packages (from tensorflow) (3.7.4.3)\n",
      "Requirement already satisfied: six>=1.12.0 in c:\\users\\benez\\anaconda3\\lib\\site-packages (from tensorflow) (1.15.0)\n",
      "Requirement already satisfied: astunparse>=1.6.0 in c:\\users\\benez\\anaconda3\\lib\\site-packages (from tensorflow) (1.6.3)\n",
      "Requirement already satisfied: protobuf>=3.9.2 in c:\\users\\benez\\anaconda3\\lib\\site-packages (from tensorflow) (3.19.1)\n",
      "Requirement already satisfied: wrapt>=1.11.0 in c:\\users\\benez\\anaconda3\\lib\\site-packages (from tensorflow) (1.12.1)\n",
      "Requirement already satisfied: keras-preprocessing>=1.1.1 in c:\\users\\benez\\anaconda3\\lib\\site-packages (from tensorflow) (1.1.2)\n",
      "Requirement already satisfied: tensorflow-estimator<2.8,~=2.7.0rc0 in c:\\users\\benez\\anaconda3\\lib\\site-packages (from tensorflow) (2.7.0)\n",
      "Requirement already satisfied: numpy>=1.14.5 in c:\\users\\benez\\anaconda3\\lib\\site-packages (from tensorflow) (1.20.1)\n",
      "Requirement already satisfied: gast<0.5.0,>=0.2.1 in c:\\users\\benez\\anaconda3\\lib\\site-packages (from tensorflow) (0.4.0)\n",
      "Requirement already satisfied: flatbuffers<3.0,>=1.12 in c:\\users\\benez\\anaconda3\\lib\\site-packages (from tensorflow) (2.0)\n",
      "Requirement already satisfied: tensorboard~=2.6 in c:\\users\\benez\\anaconda3\\lib\\site-packages (from tensorflow) (2.7.0)\n",
      "Requirement already satisfied: google-pasta>=0.1.1 in c:\\users\\benez\\anaconda3\\lib\\site-packages (from tensorflow) (0.2.0)\n",
      "Requirement already satisfied: absl-py>=0.4.0 in c:\\users\\benez\\anaconda3\\lib\\site-packages (from tensorflow) (1.0.0)\n",
      "Requirement already satisfied: keras<2.8,>=2.7.0rc0 in c:\\users\\benez\\anaconda3\\lib\\site-packages (from tensorflow) (2.7.0)\n",
      "Requirement already satisfied: tensorflow-io-gcs-filesystem>=0.21.0 in c:\\users\\benez\\anaconda3\\lib\\site-packages (from tensorflow) (0.22.0)\n",
      "Requirement already satisfied: grpcio<2.0,>=1.24.3 in c:\\users\\benez\\anaconda3\\lib\\site-packages (from tensorflow) (1.42.0)\n",
      "Requirement already satisfied: libclang>=9.0.1 in c:\\users\\benez\\anaconda3\\lib\\site-packages (from tensorflow) (12.0.0)\n",
      "Requirement already satisfied: tensorboard-plugin-wit>=1.6.0 in c:\\users\\benez\\anaconda3\\lib\\site-packages (from tensorboard~=2.6->tensorflow) (1.8.0)\n",
      "Requirement already satisfied: requests<3,>=2.21.0 in c:\\users\\benez\\anaconda3\\lib\\site-packages (from tensorboard~=2.6->tensorflow) (2.25.1)\n",
      "Requirement already satisfied: google-auth<3,>=1.6.3 in c:\\users\\benez\\anaconda3\\lib\\site-packages (from tensorboard~=2.6->tensorflow) (2.3.3)\n",
      "Requirement already satisfied: markdown>=2.6.8 in c:\\users\\benez\\anaconda3\\lib\\site-packages (from tensorboard~=2.6->tensorflow) (3.3.6)\n",
      "Requirement already satisfied: werkzeug>=0.11.15 in c:\\users\\benez\\anaconda3\\lib\\site-packages (from tensorboard~=2.6->tensorflow) (1.0.1)\n",
      "Requirement already satisfied: tensorboard-data-server<0.7.0,>=0.6.0 in c:\\users\\benez\\anaconda3\\lib\\site-packages (from tensorboard~=2.6->tensorflow) (0.6.1)\n",
      "Requirement already satisfied: setuptools>=41.0.0 in c:\\users\\benez\\anaconda3\\lib\\site-packages (from tensorboard~=2.6->tensorflow) (52.0.0.post20210125)\n",
      "Requirement already satisfied: google-auth-oauthlib<0.5,>=0.4.1 in c:\\users\\benez\\anaconda3\\lib\\site-packages (from tensorboard~=2.6->tensorflow) (0.4.6)\n",
      "Requirement already satisfied: rsa<5,>=3.1.4 in c:\\users\\benez\\anaconda3\\lib\\site-packages (from google-auth<3,>=1.6.3->tensorboard~=2.6->tensorflow) (4.8)\n",
      "Requirement already satisfied: cachetools<5.0,>=2.0.0 in c:\\users\\benez\\anaconda3\\lib\\site-packages (from google-auth<3,>=1.6.3->tensorboard~=2.6->tensorflow) (4.2.4)\n",
      "Requirement already satisfied: pyasn1-modules>=0.2.1 in c:\\users\\benez\\anaconda3\\lib\\site-packages (from google-auth<3,>=1.6.3->tensorboard~=2.6->tensorflow) (0.2.8)\n",
      "Requirement already satisfied: requests-oauthlib>=0.7.0 in c:\\users\\benez\\anaconda3\\lib\\site-packages (from google-auth-oauthlib<0.5,>=0.4.1->tensorboard~=2.6->tensorflow) (1.3.0)\n",
      "Requirement already satisfied: importlib-metadata>=4.4 in c:\\users\\benez\\anaconda3\\lib\\site-packages (from markdown>=2.6.8->tensorboard~=2.6->tensorflow) (4.8.2)\n",
      "Requirement already satisfied: zipp>=0.5 in c:\\users\\benez\\anaconda3\\lib\\site-packages (from importlib-metadata>=4.4->markdown>=2.6.8->tensorboard~=2.6->tensorflow) (3.4.1)\n",
      "Requirement already satisfied: pyasn1<0.5.0,>=0.4.6 in c:\\users\\benez\\anaconda3\\lib\\site-packages (from pyasn1-modules>=0.2.1->google-auth<3,>=1.6.3->tensorboard~=2.6->tensorflow) (0.4.8)\n",
      "Requirement already satisfied: chardet<5,>=3.0.2 in c:\\users\\benez\\anaconda3\\lib\\site-packages (from requests<3,>=2.21.0->tensorboard~=2.6->tensorflow) (4.0.0)\n",
      "Requirement already satisfied: certifi>=2017.4.17 in c:\\users\\benez\\anaconda3\\lib\\site-packages (from requests<3,>=2.21.0->tensorboard~=2.6->tensorflow) (2020.12.5)\n",
      "Requirement already satisfied: idna<3,>=2.5 in c:\\users\\benez\\anaconda3\\lib\\site-packages (from requests<3,>=2.21.0->tensorboard~=2.6->tensorflow) (2.10)\n",
      "Requirement already satisfied: urllib3<1.27,>=1.21.1 in c:\\users\\benez\\anaconda3\\lib\\site-packages (from requests<3,>=2.21.0->tensorboard~=2.6->tensorflow) (1.26.4)\n",
      "Requirement already satisfied: oauthlib>=3.0.0 in c:\\users\\benez\\anaconda3\\lib\\site-packages (from requests-oauthlib>=0.7.0->google-auth-oauthlib<0.5,>=0.4.1->tensorboard~=2.6->tensorflow) (3.1.1)\n"
     ]
    }
   ],
   "source": [
    "!pip install tensorflow"
   ]
  },
  {
   "cell_type": "code",
   "execution_count": 1,
   "id": "b4d24141",
   "metadata": {},
   "outputs": [
    {
     "name": "stderr",
     "output_type": "stream",
     "text": [
      "ERROR: Could not find a version that satisfies the requirement os\n",
      "ERROR: No matching distribution found for os\n"
     ]
    }
   ],
   "source": [
    "!pip install os"
   ]
  },
  {
   "cell_type": "code",
   "execution_count": 3,
   "id": "1e45e05f",
   "metadata": {
    "scrolled": true
   },
   "outputs": [
    {
     "name": "stdout",
     "output_type": "stream",
     "text": [
      "Requirement already satisfied: matplotlib in c:\\users\\benez\\anaconda3\\lib\\site-packages (3.3.4)\n",
      "Requirement already satisfied: numpy>=1.15 in c:\\users\\benez\\anaconda3\\lib\\site-packages (from matplotlib) (1.20.1)\n",
      "Requirement already satisfied: cycler>=0.10 in c:\\users\\benez\\anaconda3\\lib\\site-packages (from matplotlib) (0.10.0)\n",
      "Requirement already satisfied: python-dateutil>=2.1 in c:\\users\\benez\\anaconda3\\lib\\site-packages (from matplotlib) (2.8.1)\n",
      "Requirement already satisfied: kiwisolver>=1.0.1 in c:\\users\\benez\\anaconda3\\lib\\site-packages (from matplotlib) (1.3.1)\n",
      "Requirement already satisfied: pyparsing!=2.0.4,!=2.1.2,!=2.1.6,>=2.0.3 in c:\\users\\benez\\anaconda3\\lib\\site-packages (from matplotlib) (2.4.7)\n",
      "Requirement already satisfied: pillow>=6.2.0 in c:\\users\\benez\\anaconda3\\lib\\site-packages (from matplotlib) (8.2.0)\n",
      "Requirement already satisfied: six in c:\\users\\benez\\anaconda3\\lib\\site-packages (from cycler>=0.10->matplotlib) (1.15.0)\n"
     ]
    }
   ],
   "source": [
    "!pip install matplotlib"
   ]
  },
  {
   "cell_type": "code",
   "execution_count": 4,
   "id": "e185d3c9",
   "metadata": {},
   "outputs": [
    {
     "name": "stdout",
     "output_type": "stream",
     "text": [
      "Collecting sklearn\n",
      "  Using cached sklearn-0.0-py2.py3-none-any.whl\n",
      "Requirement already satisfied: scikit-learn in c:\\users\\benez\\anaconda3\\lib\\site-packages (from sklearn) (0.24.1)\n",
      "Requirement already satisfied: numpy>=1.13.3 in c:\\users\\benez\\anaconda3\\lib\\site-packages (from scikit-learn->sklearn) (1.20.1)\n",
      "Requirement already satisfied: joblib>=0.11 in c:\\users\\benez\\anaconda3\\lib\\site-packages (from scikit-learn->sklearn) (1.0.1)\n",
      "Requirement already satisfied: threadpoolctl>=2.0.0 in c:\\users\\benez\\anaconda3\\lib\\site-packages (from scikit-learn->sklearn) (2.1.0)\n",
      "Requirement already satisfied: scipy>=0.19.1 in c:\\users\\benez\\anaconda3\\lib\\site-packages (from scikit-learn->sklearn) (1.6.2)\n",
      "Installing collected packages: sklearn\n",
      "Successfully installed sklearn-0.0\n"
     ]
    }
   ],
   "source": [
    "!pip install sklearn"
   ]
  },
  {
   "cell_type": "code",
   "execution_count": null,
   "id": "e30aa2e7",
   "metadata": {},
   "outputs": [],
   "source": []
  },
  {
   "cell_type": "code",
   "execution_count": 2,
   "id": "7e07c3db",
   "metadata": {},
   "outputs": [],
   "source": [
    "import tensorflow as tf\n",
    "import numpy as np\n",
    "import matplotlib.pyplot as plt\n",
    "import os\n",
    "from tensorflow.keras.models import Sequential\n",
    "from tensorflow.keras.layers import Dense, Flatten\n",
    "from tensorflow.keras.preprocessing.image import ImageDataGenerator\n",
    "from tensorflow.keras.optimizers import Adam\n"
   ]
  },
  {
   "cell_type": "code",
   "execution_count": 9,
   "id": "7b4c2586",
   "metadata": {},
   "outputs": [],
   "source": [
    "#Keras Libraries\n",
    "import keras\n",
    "from keras import optimizers\n",
    "import matplotlib.pyplot as plt\n",
    "from tensorflow.keras import datasets, layers, models\n",
    "from keras.layers import Activation\n",
    "from keras.models import Sequential\n",
    "from keras.layers import Conv2D\n",
    "from keras.layers import MaxPooling2D\n",
    "from keras.layers import Flatten\n",
    "from keras.layers import Dense\n",
    "from keras.preprocessing.image import ImageDataGenerator, load_img\n",
    "from sklearn.metrics import classification_report, confusion_matrix"
   ]
  },
  {
   "cell_type": "markdown",
   "id": "598d6188",
   "metadata": {},
   "source": [
    "### Section number A"
   ]
  },
  {
   "cell_type": "code",
   "execution_count": 27,
   "id": "4d340c64",
   "metadata": {},
   "outputs": [
    {
     "name": "stdout",
     "output_type": "stream",
     "text": [
      "Accout train normal is : 1341 and Accout train PNEUMONIA is 3875\n",
      "Accout test normal is : 234 and Accout test PNEUMONIA is 390\n",
      "Total images in the training set:  5216\n",
      "Total images in the test set:  624\n"
     ]
    }
   ],
   "source": [
    "Read_folder = r'C:\\Users\\benez\\Desktop\\EX1 - deep learning\\chest_xray\\chest_xray'\n",
    "\n",
    "\n",
    "train_Read_folder = os.path.join(Read_folder, 'train')\n",
    "\n",
    "test_Read_folder = os.path.join(Read_folder, 'test')\n",
    "\n",
    "val_Read_folder = os.path.join(Read_folder, 'val')\n",
    "\n",
    "train_p_Read_folder = os.path.join(train_Read_folder, 'PNEUMONIA')\n",
    "\n",
    "train_n_Read_folder = os.path.join(train_Read_folder, 'NORMAL')\n",
    "\n",
    "test_p_Read_folder = os.path.join(test_Read_folder, 'PNEUMONIA')\n",
    "\n",
    "test_n_Read_folder = os.path.join(test_Read_folder, 'NORMAL')\n",
    "\n",
    "\n",
    "\n",
    "# Extracting all file names \n",
    "train_PNEUMONIA_files = os.listdir(train_p_Read_folder)\n",
    "train_NORMAL_files = os.listdir(train_n_Read_folder)\n",
    "test_PNEUMONIA_files = os.listdir(test_p_Read_folder)\n",
    "test_NORMAL_files = os.listdir(test_n_Read_folder)\n",
    "print (\"Accout train normal is :\",len(train_NORMAL_files), \"and Accout train PNEUMONIA is\" , len(train_PNEUMONIA_files))\n",
    "print (\"Accout test normal is :\",len(test_NORMAL_files), \"and Accout test PNEUMONIA is\" , len(test_PNEUMONIA_files))\n",
    "\n",
    "print(\"Total images in the training set: \", len(train_PNEUMONIA_files+train_NORMAL_files))\n",
    "print(\"Total images in the test set: \", len(test_PNEUMONIA_files+test_NORMAL_files))"
   ]
  },
  {
   "cell_type": "code",
   "execution_count": 29,
   "id": "5efad043",
   "metadata": {},
   "outputs": [
    {
     "name": "stdout",
     "output_type": "stream",
     "text": [
      "Found 5216 files belonging to 2 classes.\n",
      "Using 4695 files for training.\n",
      "Found 5216 files belonging to 2 classes.\n",
      "Using 521 files for validation.\n",
      "Found 5216 images belonging to 2 classes.\n",
      "Found 624 images belonging to 2 classes.\n",
      "Found 16 images belonging to 2 classes.\n",
      "82\n",
      "shape is :  (224, 224, 1)\n",
      "val data BATCH SIZE 8\n",
      "{'NORMAL': 0, 'PNEUMONIA': 1}\n",
      "2\n"
     ]
    }
   ],
   "source": [
    "BATCH_SIZE=64\n",
    "train_normalization = ImageDataGenerator(rescale=1./255)\n",
    "test_normalization = ImageDataGenerator(rescale=1./255)\n",
    "val_normalization = ImageDataGenerator(rescale=1./255)\n",
    "\n",
    "train_directory=train_Read_folder\n",
    "test_directory=test_Read_folder\n",
    "val_directory=val_Read_folder\n",
    "\n",
    "train_data = tf.keras.utils.image_dataset_from_directory(\n",
    "    train_directory, seed=3, validation_split=0.1, subset='training')\n",
    "    \n",
    "val_data = tf.keras.utils.image_dataset_from_directory(\n",
    "    train_directory, seed=3, validation_split=0.1, subset='validation')\n",
    "\n",
    "train_data=train_normalization.flow_from_directory(train_directory, target_size=(224,224),class_mode='binary', batch_size= BATCH_SIZE, color_mode='grayscale')\n",
    "test_data=test_normalization.flow_from_directory(test_directory, target_size=(224,224),class_mode='binary',batch_size= BATCH_SIZE, color_mode='grayscale')\n",
    "val_data=val_normalization.flow_from_directory(val_directory, target_size=(224,224),class_mode='binary', batch_size= 2, color_mode='grayscale')\n",
    "\n",
    "\n",
    "\n",
    "print(len(train_data))\n",
    "print('shape is : ',test_data.image_shape)\n",
    "print('val data BATCH SIZE',len(val_data))\n",
    "print(train_data.class_indices)\n",
    "print(train_data.num_classes)"
   ]
  },
  {
   "cell_type": "code",
   "execution_count": 30,
   "id": "e1f64bee",
   "metadata": {},
   "outputs": [
    {
     "data": {
      "text/plain": [
       "{'NORMAL': 0, 'PNEUMONIA': 1}"
      ]
     },
     "execution_count": 30,
     "metadata": {},
     "output_type": "execute_result"
    }
   ],
   "source": [
    "train_data.class_indices"
   ]
  },
  {
   "cell_type": "code",
   "execution_count": 31,
   "id": "b7f160ec",
   "metadata": {},
   "outputs": [
    {
     "name": "stdout",
     "output_type": "stream",
     "text": [
      "Model: \"my_sequential\"\n",
      "_________________________________________________________________\n",
      " Layer (type)                Output Shape              Param #   \n",
      "=================================================================\n",
      " flatten_3 (Flatten)         (None, 50176)             0         \n",
      "                                                                 \n",
      " Dense1 (Dense)              (None, 128)               6422656   \n",
      "                                                                 \n",
      " Dense2 (Dense)              (None, 128)               16512     \n",
      "                                                                 \n",
      " Dense3 (Dense)              (None, 64)                8256      \n",
      "                                                                 \n",
      " Dense4 (Dense)              (None, 32)                2080      \n",
      "                                                                 \n",
      " Dense5 (Dense)              (None, 1)                 33        \n",
      "                                                                 \n",
      "=================================================================\n",
      "Total params: 6,449,537\n",
      "Trainable params: 6,449,537\n",
      "Non-trainable params: 0\n",
      "_________________________________________________________________\n"
     ]
    }
   ],
   "source": [
    "model = keras.Sequential(name=\"my_sequential\")\n",
    "model.add(layers.Flatten(input_shape=(224,224,1)))\n",
    "model.add(layers.Dense(128, activation='relu', name='Dense1'))\n",
    "model.add(layers.Dense(128, activation='relu', name='Dense2'))\n",
    "model.add(layers.Dense(64, activation='relu', name='Dense3'))\n",
    "model.add(layers.Dense(32, activation='relu', name='Dense4'))\n",
    "model.add(layers.Dense(1, activation='sigmoid', name='Dense5'))\n",
    "model.summary()"
   ]
  },
  {
   "cell_type": "markdown",
   "id": "428c115c",
   "metadata": {},
   "source": [
    "### Section number B"
   ]
  },
  {
   "cell_type": "code",
   "execution_count": 32,
   "id": "d7cff7b8",
   "metadata": {},
   "outputs": [],
   "source": [
    "model.compile(loss='binary_crossentropy', optimizer = Adam(learning_rate=1e-4), metrics=['accuracy'])"
   ]
  },
  {
   "cell_type": "code",
   "execution_count": 33,
   "id": "33ff0245",
   "metadata": {},
   "outputs": [
    {
     "name": "stdout",
     "output_type": "stream",
     "text": [
      "Epoch 1/10\n",
      "82/82 [==============================] - 77s 928ms/step - loss: 0.3591 - accuracy: 0.8380 - val_loss: 0.5778 - val_accuracy: 0.7500\n",
      "Epoch 2/10\n",
      "82/82 [==============================] - 46s 562ms/step - loss: 0.1726 - accuracy: 0.9354 - val_loss: 0.4665 - val_accuracy: 0.8125\n",
      "Epoch 3/10\n",
      "82/82 [==============================] - 45s 550ms/step - loss: 0.1532 - accuracy: 0.9410 - val_loss: 0.2406 - val_accuracy: 0.9375\n",
      "Epoch 4/10\n",
      "82/82 [==============================] - 45s 554ms/step - loss: 0.1307 - accuracy: 0.9498 - val_loss: 0.5843 - val_accuracy: 0.7500\n",
      "Epoch 5/10\n",
      "82/82 [==============================] - 45s 555ms/step - loss: 0.1435 - accuracy: 0.9448 - val_loss: 0.4424 - val_accuracy: 0.8125\n",
      "Epoch 6/10\n",
      "82/82 [==============================] - 46s 557ms/step - loss: 0.1114 - accuracy: 0.9594 - val_loss: 0.1905 - val_accuracy: 0.9375\n",
      "Epoch 7/10\n",
      "82/82 [==============================] - 47s 569ms/step - loss: 0.1121 - accuracy: 0.9588 - val_loss: 0.2886 - val_accuracy: 0.8750\n",
      "Epoch 8/10\n",
      "82/82 [==============================] - 46s 562ms/step - loss: 0.1129 - accuracy: 0.9549 - val_loss: 0.7292 - val_accuracy: 0.6875\n",
      "Epoch 9/10\n",
      "82/82 [==============================] - 47s 569ms/step - loss: 0.1040 - accuracy: 0.9632 - val_loss: 0.3562 - val_accuracy: 0.8750\n",
      "Epoch 10/10\n",
      "82/82 [==============================] - 46s 565ms/step - loss: 0.1060 - accuracy: 0.9615 - val_loss: 0.3703 - val_accuracy: 0.8750\n"
     ]
    }
   ],
   "source": [
    "epochs=10\n",
    "model_fit = model.fit(train_data,validation_data = val_data, epochs=epochs, batch_size=BATCH_SIZE )"
   ]
  },
  {
   "cell_type": "code",
   "execution_count": 39,
   "id": "b926e6d6",
   "metadata": {},
   "outputs": [
    {
     "name": "stdout",
     "output_type": "stream",
     "text": [
      "dict_keys(['loss', 'accuracy', 'val_loss', 'val_accuracy'])\n"
     ]
    },
    {
     "data": {
      "image/png": "[encoded data removed]",
      "text/plain": [
       "<Figure size 432x288 with 1 Axes>"
      ]
     },
     "metadata": {
      "needs_background": "light"
     },
     "output_type": "display_data"
    },
    {
     "data": {
      "image/png": "[encoded data removed]",
      "text/plain": [
       "<Figure size 432x288 with 1 Axes>"
      ]
     },
     "metadata": {
      "needs_background": "light"
     },
     "output_type": "display_data"
    }
   ],
   "source": [
    "print(model_fit.history.keys())\n",
    "plt.plot(model_fit.history['accuracy'])\n",
    "plt.plot(model_fit.history['val_accuracy'])\n",
    "plt.title('model accuracy')\n",
    "plt.ylabel('accuracy')\n",
    "plt.xlabel('epoch')\n",
    "plt.legend(['train', 'Val'], loc='upper left')\n",
    "plt.show()\n",
    "# summarize history for loss\n",
    "plt.plot(model_fit.history['loss'])\n",
    "plt.plot(model_fit.history['val_loss'])\n",
    "plt.title('model loss')\n",
    "plt.ylabel('loss')\n",
    "plt.xlabel('epoch')\n",
    "plt.legend(['train', 'Val'], loc='upper left')\n",
    "plt.show()"
   ]
  },
  {
   "cell_type": "code",
   "execution_count": 55,
   "id": "adecc6bd",
   "metadata": {},
   "outputs": [],
   "source": [
    "predictions_DNN = model.predict(test_data) \n",
    "y_pred_Adam = predictions_DNN > 0.5\n",
    "y_true_Adam = test_data.classes "
   ]
  },
  {
   "cell_type": "code",
   "execution_count": 59,
   "id": "f4fd755b",
   "metadata": {},
   "outputs": [
    {
     "data": {
      "image/png": "[encoded data removed]",
      "text/plain": [
       "<Figure size 432x288 with 2 Axes>"
      ]
     },
     "metadata": {
      "needs_background": "light"
     },
     "output_type": "display_data"
    }
   ],
   "source": [
    "import seaborn as sns\n",
    "\n",
    "font = {\n",
    "    'family': 'Times New Roman',\n",
    "    'size': 12\n",
    "}\n",
    "plt.rc('font', **font)\n",
    "mat = confusion_matrix(y_true_Adam, y_pred_Adam)\n",
    "sns.heatmap(mat, annot=True, fmt=\"d\")\n",
    "\n",
    "plt.xlabel(\"Predicted Label\", fontsize= 12)\n",
    "plt.ylabel(\"True Label\", fontsize= 12)\n",
    "\n",
    "plt.show()\n",
    "\n"
   ]
  },
  {
   "cell_type": "code",
   "execution_count": 68,
   "id": "92bb366c",
   "metadata": {},
   "outputs": [
    {
     "name": "stdout",
     "output_type": "stream",
     "text": [
      "5616\n"
     ]
    }
   ],
   "source": [
    "print(len(str(y_pred_Adam)))\n",
    "\n",
    "\n",
    "#Recall = TruePositives / (TruePositives + FalseNegatives)\n",
    "#print (\"The recall is : \",Recall)"
   ]
  },
  {
   "cell_type": "code",
   "execution_count": 41,
   "id": "850fe6db",
   "metadata": {},
   "outputs": [],
   "source": [
    "model.save('DNN1_lr1e-4_batchsize64.h5')\n",
    "# loaded_model = load_model.('DNN1_lr1e-4_batchsize64.h5')"
   ]
  },
  {
   "cell_type": "markdown",
   "id": "9437edfc",
   "metadata": {},
   "source": [
    "### Section number D"
   ]
  },
  {
   "cell_type": "code",
   "execution_count": 70,
   "id": "34c8470b",
   "metadata": {},
   "outputs": [],
   "source": [
    "tf.keras.backend.clear_session()"
   ]
  },
  {
   "cell_type": "code",
   "execution_count": 71,
   "id": "281015e4",
   "metadata": {},
   "outputs": [
    {
     "name": "stdout",
     "output_type": "stream",
     "text": [
      "Model: \"sequential\"\n",
      "_________________________________________________________________\n",
      " Layer (type)                Output Shape              Param #   \n",
      "=================================================================\n",
      " conv2d (Conv2D)             (None, 224, 224, 32)      320       \n",
      "                                                                 \n",
      " max_pooling2d (MaxPooling2D  (None, 112, 112, 32)     0         \n",
      " )                                                               \n",
      "                                                                 \n",
      " conv2d_1 (Conv2D)           (None, 112, 112, 64)      18496     \n",
      "                                                                 \n",
      " max_pooling2d_1 (MaxPooling  (None, 56, 56, 64)       0         \n",
      " 2D)                                                             \n",
      "                                                                 \n",
      " flatten (Flatten)           (None, 200704)            0         \n",
      "                                                                 \n",
      " dropout (Dropout)           (None, 200704)            0         \n",
      "                                                                 \n",
      " dense (Dense)               (None, 1)                 200705    \n",
      "                                                                 \n",
      "=================================================================\n",
      "Total params: 219,521\n",
      "Trainable params: 219,521\n",
      "Non-trainable params: 0\n",
      "_________________________________________________________________\n"
     ]
    }
   ],
   "source": [
    "num_classes = 1\n",
    "input_shape = (224, 224, 1)\n",
    "epochs = 60\n",
    "\n",
    "model2 = keras.Sequential(\n",
    "    [\n",
    "        keras.Input(shape=input_shape),\n",
    "        layers.Conv2D(32, kernel_size=(3, 3), activation=\"relu\", padding = \"same\"),\n",
    "        layers.MaxPooling2D(pool_size=(2, 2)),\n",
    "        layers.Conv2D(64, kernel_size=(3, 3), activation=\"relu\" ,padding = \"same\"),\n",
    "        layers.MaxPooling2D(pool_size=(2, 2)),\n",
    "        layers.Flatten(),\n",
    "        layers.Dropout(0.5),\n",
    "        layers.Dense(num_classes, activation=\"sigmoid\"),\n",
    "    ]\n",
    ")\n",
    "\n",
    "model2.summary()\n"
   ]
  },
  {
   "cell_type": "code",
   "execution_count": 72,
   "id": "cff216d0",
   "metadata": {},
   "outputs": [
    {
     "name": "stdout",
     "output_type": "stream",
     "text": [
      "Epoch 1/60\n",
      "82/82 [==============================] - 147s 2s/step - loss: 0.4504 - accuracy: 0.7885 - val_loss: 0.7249 - val_accuracy: 0.6250\n",
      "Epoch 2/60\n",
      "82/82 [==============================] - 143s 2s/step - loss: 0.2227 - accuracy: 0.9178 - val_loss: 0.6863 - val_accuracy: 0.6875\n",
      "Epoch 3/60\n",
      "82/82 [==============================] - 147s 2s/step - loss: 0.1468 - accuracy: 0.9486 - val_loss: 0.5195 - val_accuracy: 0.6875\n",
      "Epoch 4/60\n",
      "82/82 [==============================] - 146s 2s/step - loss: 0.1181 - accuracy: 0.9559 - val_loss: 0.4894 - val_accuracy: 0.6875\n",
      "Epoch 5/60\n",
      "82/82 [==============================] - 150s 2s/step - loss: 0.0965 - accuracy: 0.9661 - val_loss: 0.2758 - val_accuracy: 0.9375\n",
      "Epoch 6/60\n",
      "82/82 [==============================] - 151s 2s/step - loss: 0.0846 - accuracy: 0.9720 - val_loss: 0.3584 - val_accuracy: 0.7500\n",
      "Epoch 7/60\n",
      "82/82 [==============================] - 148s 2s/step - loss: 0.0775 - accuracy: 0.9730 - val_loss: 0.2254 - val_accuracy: 0.9375\n",
      "Epoch 8/60\n",
      "82/82 [==============================] - 147s 2s/step - loss: 0.0789 - accuracy: 0.9718 - val_loss: 0.3316 - val_accuracy: 0.8125\n",
      "Epoch 9/60\n",
      "82/82 [==============================] - 155s 2s/step - loss: 0.0663 - accuracy: 0.9749 - val_loss: 0.4267 - val_accuracy: 0.7500\n",
      "Epoch 10/60\n",
      "82/82 [==============================] - 147s 2s/step - loss: 0.0667 - accuracy: 0.9774 - val_loss: 0.5331 - val_accuracy: 0.6875\n",
      "Epoch 11/60\n",
      "82/82 [==============================] - 147s 2s/step - loss: 0.0671 - accuracy: 0.9745 - val_loss: 0.5222 - val_accuracy: 0.6875\n",
      "Epoch 12/60\n",
      "82/82 [==============================] - 147s 2s/step - loss: 0.0595 - accuracy: 0.9804 - val_loss: 0.2316 - val_accuracy: 0.9375\n",
      "Epoch 13/60\n",
      "82/82 [==============================] - 150s 2s/step - loss: 0.0568 - accuracy: 0.9789 - val_loss: 0.3420 - val_accuracy: 0.8125\n",
      "Epoch 14/60\n",
      "82/82 [==============================] - 147s 2s/step - loss: 0.0643 - accuracy: 0.9768 - val_loss: 0.7019 - val_accuracy: 0.6875\n",
      "Epoch 15/60\n",
      "82/82 [==============================] - 147s 2s/step - loss: 0.0567 - accuracy: 0.9799 - val_loss: 0.1872 - val_accuracy: 0.9375\n",
      "Epoch 16/60\n",
      "82/82 [==============================] - 148s 2s/step - loss: 0.0506 - accuracy: 0.9829 - val_loss: 0.2673 - val_accuracy: 0.8750\n",
      "Epoch 17/60\n",
      "82/82 [==============================] - 150s 2s/step - loss: 0.0499 - accuracy: 0.9803 - val_loss: 0.2587 - val_accuracy: 0.8750\n",
      "Epoch 18/60\n",
      "82/82 [==============================] - 147s 2s/step - loss: 0.0475 - accuracy: 0.9843 - val_loss: 0.1406 - val_accuracy: 0.9375\n",
      "Epoch 19/60\n",
      "82/82 [==============================] - 148s 2s/step - loss: 0.0426 - accuracy: 0.9860 - val_loss: 0.3106 - val_accuracy: 0.8125\n",
      "Epoch 20/60\n",
      "82/82 [==============================] - 148s 2s/step - loss: 0.0441 - accuracy: 0.9850 - val_loss: 0.4050 - val_accuracy: 0.7500\n",
      "Epoch 21/60\n",
      "82/82 [==============================] - 149s 2s/step - loss: 0.0456 - accuracy: 0.9841 - val_loss: 0.2686 - val_accuracy: 0.8750\n",
      "Epoch 22/60\n",
      "82/82 [==============================] - 147s 2s/step - loss: 0.0392 - accuracy: 0.9860 - val_loss: 0.3937 - val_accuracy: 0.8125\n",
      "Epoch 23/60\n",
      "82/82 [==============================] - 147s 2s/step - loss: 0.0427 - accuracy: 0.9858 - val_loss: 0.1429 - val_accuracy: 0.9375\n",
      "Epoch 24/60\n",
      "82/82 [==============================] - 147s 2s/step - loss: 0.0395 - accuracy: 0.9858 - val_loss: 0.2614 - val_accuracy: 0.8750\n",
      "Epoch 25/60\n",
      "82/82 [==============================] - 149s 2s/step - loss: 0.0371 - accuracy: 0.9872 - val_loss: 0.1520 - val_accuracy: 0.9375\n",
      "Epoch 26/60\n",
      "82/82 [==============================] - 147s 2s/step - loss: 0.0363 - accuracy: 0.9875 - val_loss: 0.1463 - val_accuracy: 0.9375\n",
      "Epoch 27/60\n",
      "82/82 [==============================] - 147s 2s/step - loss: 0.0319 - accuracy: 0.9912 - val_loss: 0.1771 - val_accuracy: 0.8750\n",
      "Epoch 28/60\n",
      "82/82 [==============================] - 148s 2s/step - loss: 0.0398 - accuracy: 0.9864 - val_loss: 0.3222 - val_accuracy: 0.8750\n",
      "Epoch 29/60\n",
      "82/82 [==============================] - 150s 2s/step - loss: 0.0345 - accuracy: 0.9868 - val_loss: 0.5211 - val_accuracy: 0.7500\n",
      "Epoch 30/60\n",
      "82/82 [==============================] - 148s 2s/step - loss: 0.0313 - accuracy: 0.9898 - val_loss: 0.1430 - val_accuracy: 0.9375\n",
      "Epoch 31/60\n",
      "82/82 [==============================] - 152s 2s/step - loss: 0.0320 - accuracy: 0.9889 - val_loss: 0.1017 - val_accuracy: 0.9375\n",
      "Epoch 32/60\n",
      "82/82 [==============================] - 147s 2s/step - loss: 0.0377 - accuracy: 0.9872 - val_loss: 0.1482 - val_accuracy: 0.9375\n",
      "Epoch 33/60\n",
      "82/82 [==============================] - 148s 2s/step - loss: 0.0300 - accuracy: 0.9906 - val_loss: 0.1520 - val_accuracy: 0.9375\n",
      "Epoch 34/60\n",
      "82/82 [==============================] - 153s 2s/step - loss: 0.0285 - accuracy: 0.9908 - val_loss: 0.1503 - val_accuracy: 0.9375\n",
      "Epoch 35/60\n",
      "82/82 [==============================] - 147s 2s/step - loss: 0.0268 - accuracy: 0.9908 - val_loss: 0.1862 - val_accuracy: 0.8750\n",
      "Epoch 36/60\n",
      "82/82 [==============================] - 147s 2s/step - loss: 0.0254 - accuracy: 0.9916 - val_loss: 0.1950 - val_accuracy: 0.8750\n",
      "Epoch 37/60\n",
      "82/82 [==============================] - 150s 2s/step - loss: 0.0251 - accuracy: 0.9921 - val_loss: 0.4271 - val_accuracy: 0.7500\n",
      "Epoch 38/60\n",
      "82/82 [==============================] - 147s 2s/step - loss: 0.0255 - accuracy: 0.9916 - val_loss: 0.1262 - val_accuracy: 0.9375\n",
      "Epoch 39/60\n",
      "82/82 [==============================] - 147s 2s/step - loss: 0.0271 - accuracy: 0.9895 - val_loss: 0.0594 - val_accuracy: 1.0000\n",
      "Epoch 40/60\n",
      "82/82 [==============================] - 147s 2s/step - loss: 0.0246 - accuracy: 0.9921 - val_loss: 0.0683 - val_accuracy: 1.0000\n",
      "Epoch 41/60\n",
      "82/82 [==============================] - 149s 2s/step - loss: 0.0223 - accuracy: 0.9935 - val_loss: 0.1744 - val_accuracy: 0.8750\n",
      "Epoch 42/60\n",
      "82/82 [==============================] - 162s 2s/step - loss: 0.0241 - accuracy: 0.9918 - val_loss: 0.0429 - val_accuracy: 1.0000\n",
      "Epoch 43/60\n",
      "82/82 [==============================] - 152s 2s/step - loss: 0.0198 - accuracy: 0.9941 - val_loss: 0.1103 - val_accuracy: 0.9375\n",
      "Epoch 44/60\n",
      "82/82 [==============================] - 148s 2s/step - loss: 0.0209 - accuracy: 0.9929 - val_loss: 0.1156 - val_accuracy: 0.9375\n",
      "Epoch 45/60\n",
      "82/82 [==============================] - 149s 2s/step - loss: 0.0178 - accuracy: 0.9958 - val_loss: 0.0809 - val_accuracy: 1.0000\n",
      "Epoch 46/60\n",
      "82/82 [==============================] - 149s 2s/step - loss: 0.0191 - accuracy: 0.9941 - val_loss: 0.1808 - val_accuracy: 0.8750\n",
      "Epoch 47/60\n",
      "82/82 [==============================] - 147s 2s/step - loss: 0.0203 - accuracy: 0.9944 - val_loss: 0.5533 - val_accuracy: 0.6875\n",
      "Epoch 48/60\n",
      "82/82 [==============================] - 148s 2s/step - loss: 0.0193 - accuracy: 0.9942 - val_loss: 0.3066 - val_accuracy: 0.8750\n",
      "Epoch 49/60\n",
      "82/82 [==============================] - 151s 2s/step - loss: 0.0166 - accuracy: 0.9958 - val_loss: 0.4173 - val_accuracy: 0.8750\n",
      "Epoch 50/60\n",
      "82/82 [==============================] - 147s 2s/step - loss: 0.0181 - accuracy: 0.9942 - val_loss: 0.1457 - val_accuracy: 0.9375\n",
      "Epoch 51/60\n",
      "82/82 [==============================] - 147s 2s/step - loss: 0.0142 - accuracy: 0.9971 - val_loss: 0.3609 - val_accuracy: 0.8750\n",
      "Epoch 52/60\n",
      "82/82 [==============================] - 149s 2s/step - loss: 0.0162 - accuracy: 0.9952 - val_loss: 0.6006 - val_accuracy: 0.6875\n",
      "Epoch 53/60\n",
      "82/82 [==============================] - 151s 2s/step - loss: 0.0186 - accuracy: 0.9950 - val_loss: 0.3650 - val_accuracy: 0.8750\n",
      "Epoch 54/60\n",
      "82/82 [==============================] - 161s 2s/step - loss: 0.0153 - accuracy: 0.9956 - val_loss: 0.3191 - val_accuracy: 0.8750\n",
      "Epoch 55/60\n",
      "82/82 [==============================] - 147s 2s/step - loss: 0.0157 - accuracy: 0.9952 - val_loss: 0.1452 - val_accuracy: 0.9375\n",
      "Epoch 56/60\n",
      "82/82 [==============================] - 153s 2s/step - loss: 0.0131 - accuracy: 0.9969 - val_loss: 0.2162 - val_accuracy: 0.8750\n",
      "Epoch 57/60\n",
      "82/82 [==============================] - 149s 2s/step - loss: 0.0142 - accuracy: 0.9965 - val_loss: 0.1459 - val_accuracy: 0.9375\n",
      "Epoch 58/60\n",
      "82/82 [==============================] - 150s 2s/step - loss: 0.0136 - accuracy: 0.9964 - val_loss: 0.0833 - val_accuracy: 0.9375\n"
     ]
    },
    {
     "name": "stdout",
     "output_type": "stream",
     "text": [
      "Epoch 59/60\n",
      "82/82 [==============================] - 150s 2s/step - loss: 0.0216 - accuracy: 0.9925 - val_loss: 0.1213 - val_accuracy: 0.9375\n",
      "Epoch 60/60\n",
      "82/82 [==============================] - 151s 2s/step - loss: 0.0127 - accuracy: 0.9971 - val_loss: 0.2148 - val_accuracy: 0.8750\n"
     ]
    }
   ],
   "source": [
    "model2.compile(loss='binary_crossentropy', optimizer = Adam(learning_rate=1e-4), metrics=['accuracy'])\n",
    "\n",
    "history_CNN = model2.fit(train_data,validation_data = val_data, epochs = epochs ,batch_size = BATCH_SIZE)"
   ]
  },
  {
   "cell_type": "markdown",
   "id": "a70b1040",
   "metadata": {},
   "source": [
    "### Section number D - section B"
   ]
  },
  {
   "cell_type": "code",
   "execution_count": 73,
   "id": "8995f87a",
   "metadata": {},
   "outputs": [
    {
     "name": "stdout",
     "output_type": "stream",
     "text": [
      "dict_keys(['loss', 'accuracy', 'val_loss', 'val_accuracy'])\n"
     ]
    },
    {
     "data": {
      "image/png": "[encoded data removed]",
      "text/plain": [
       "<Figure size 432x288 with 1 Axes>"
      ]
     },
     "metadata": {
      "needs_background": "light"
     },
     "output_type": "display_data"
    },
    {
     "data": {
      "image/png": "[encoded data removed]",
      "text/plain": [
       "<Figure size 432x288 with 1 Axes>"
      ]
     },
     "metadata": {
      "needs_background": "light"
     },
     "output_type": "display_data"
    }
   ],
   "source": [
    "print(model_fit.history.keys())\n",
    "plt.plot(history_CNN.history['accuracy'])\n",
    "plt.plot(history_CNN.history['val_accuracy'])\n",
    "plt.title('model accuracy')\n",
    "plt.ylabel('accuracy')\n",
    "plt.xlabel('epoch')\n",
    "plt.legend(['train', 'Val'], loc='upper left')\n",
    "plt.show()\n",
    "\n",
    "# summarize history for loss\n",
    "\n",
    "plt.plot(history_CNN.history['loss'])\n",
    "plt.plot(history_CNN.history['val_loss'])\n",
    "plt.title('model loss')\n",
    "plt.ylabel('loss')\n",
    "plt.xlabel('epoch')\n",
    "plt.legend(['train', 'Val'], loc='upper left')\n",
    "plt.show()"
   ]
  },
  {
   "cell_type": "code",
   "execution_count": 41,
   "id": "521e3a45",
   "metadata": {},
   "outputs": [
    {
     "name": "stdout",
     "output_type": "stream",
     "text": [
      "Collecting pydot\n",
      "  Downloading pydot-1.4.2-py2.py3-none-any.whl (21 kB)\n",
      "Requirement already satisfied: pyparsing>=2.1.4 in c:\\users\\benez\\anaconda3\\lib\\site-packages (from pydot) (2.4.7)\n",
      "Installing collected packages: pydot\n",
      "Successfully installed pydot-1.4.2\n"
     ]
    }
   ],
   "source": [
    "!pip install pydot"
   ]
  },
  {
   "cell_type": "code",
   "execution_count": 45,
   "id": "7d921b75",
   "metadata": {},
   "outputs": [
    {
     "name": "stdout",
     "output_type": "stream",
     "text": [
      "Collecting graphviz\n",
      "  Downloading graphviz-0.19-py3-none-any.whl (46 kB)\n",
      "Installing collected packages: graphviz\n",
      "Successfully installed graphviz-0.19\n"
     ]
    }
   ],
   "source": [
    "!pip install graphviz\n"
   ]
  },
  {
   "cell_type": "code",
   "execution_count": 46,
   "id": "c8821c05",
   "metadata": {},
   "outputs": [
    {
     "name": "stdout",
     "output_type": "stream",
     "text": [
      "('You must install pydot (`pip install pydot`) and install graphviz (see instructions at https://graphviz.gitlab.io/download/) ', 'for plot_model/model_to_dot to work.')\n"
     ]
    }
   ],
   "source": [
    "from tensorflow.keras.utils import plot_model\n",
    "plot_model(model)"
   ]
  },
  {
   "cell_type": "code",
   "execution_count": null,
   "id": "de50f2c2",
   "metadata": {},
   "outputs": [],
   "source": []
  }
 ],
 "metadata": {
  "celltoolbar": "Raw Cell Format",
  "kernelspec": {
   "display_name": "Python 3",
   "language": "python",
   "name": "python3"
  },
  "language_info": {
   "codemirror_mode": {
    "name": "ipython",
    "version": 3
   },
   "file_extension": ".py",
   "mimetype": "text/x-python",
   "name": "python",
   "nbconvert_exporter": "python",
   "pygments_lexer": "ipython3",
   "version": "3.8.8"
  }
 },
 "nbformat": 4,
 "nbformat_minor": 5
}
